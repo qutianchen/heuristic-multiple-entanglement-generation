{
 "cells": [
  {
   "cell_type": "code",
   "execution_count": 13,
   "metadata": {},
   "outputs": [
    {
     "name": "stdout",
     "output_type": "stream",
     "text": [
      "The autoreload extension is already loaded. To reload it, use:\n",
      "  %reload_ext autoreload\n"
     ]
    }
   ],
   "source": [
    "%load_ext autoreload\n",
    "%autoreload 2\n",
    "\n",
    "import gymnasium as gym\n",
    "from gymnasium.envs.registration import register\n",
    "import toy_env as te\n",
    "import numpy as np\n",
    "from matplotlib import pyplot as plt\n",
    "from tqdm import tqdm\n",
    "\n",
    "# register(\n",
    "#      id=\"ToyEnv-v0\",\n",
    "#      entry_point=\"gym_examples.envs:GridWorldEnv\",\n",
    "#      max_episode_steps=300,\n",
    "# )"
   ]
  },
  {
   "cell_type": "markdown",
   "metadata": {},
   "source": [
    "# Notes\n",
    "\n",
    "The policy can be regard not as the policy chosen when we have i links in the memory but when we want to generate s-i links ahead\n",
    "\n",
    "the interpolation generates several actions that give a 'sweep' over all bins\n",
    "\n",
    "is the general distribution approximately exponential\n",
    "\n",
    "need rigor content in the paper\n",
    "\n",
    "impossible to interpolate without knowledge between sending 1/2 link actions"
   ]
  },
  {
   "cell_type": "code",
   "execution_count": 51,
   "metadata": {},
   "outputs": [
    {
     "name": "stdout",
     "output_type": "stream",
     "text": [
      "the total bin size is:\n",
      "4\n",
      "the bins are:\n",
      "[4.0, 1.0]\n"
     ]
    }
   ],
   "source": [
    "p1, p2 = 0.2, 0.4\n",
    "lam = 1\n",
    "protocols = [[0.2,0.4],[1-lam*p1,1-lam*p2]]\n",
    "num_qubits = 4\n",
    "threshold = 1/2\n",
    "decay_rate = 0.17\n",
    "env = te.ToyEnv(protocols, num_qubits ,threshold, decay_rate)"
   ]
  },
  {
   "cell_type": "markdown",
   "metadata": {},
   "source": [
    "### baseline"
   ]
  },
  {
   "cell_type": "code",
   "execution_count": 52,
   "metadata": {},
   "outputs": [
    {
     "name": "stdout",
     "output_type": "stream",
     "text": [
      "[[0.3987631023591016, 0.3336772012635284, 0.25653056694238807], [0.6012368976408984, 0.6663227987364716, 0.7434694330576119]]\n",
      "3\n",
      "the total bin size is:\n",
      "4\n",
      "the bins are:\n",
      "[1.0, 3.0, 4.0]\n"
     ]
    },
    {
     "name": "stderr",
     "output_type": "stream",
     "text": [
      "100%|██████████| 2000/2000 [00:07<00:00, 283.63it/s]\n"
     ]
    },
    {
     "name": "stdout",
     "output_type": "stream",
     "text": [
      "122.028\n",
      "158.86011524608685\n",
      "[35, 29, 274, 2, 130, 2, 39, 3, 137, 59, 166, 13, 97, 2, 19, 2, 276, 122, 326, 2, 246, 691, 628, 51, 177, 85, 148, 234, 58, 44, 2, 63, 228, 78, 233, 126, 112, 285, 42, 2, 518, 97, 388, 533, 306, 172, 15, 62, 3, 305, 354, 554, 178, 27, 201, 271, 336, 2, 340, 102, 232, 160, 97, 25, 392, 30, 2, 6, 2, 2, 2, 25, 4, 2, 125, 19, 2, 38, 52, 2, 87, 2, 143, 7, 82, 241, 276, 287, 56, 3, 124, 162, 2, 61, 2, 45, 2, 2, 2, 3, 2, 29, 81, 156, 666, 3, 2, 21, 2, 2, 264, 8, 91, 12, 135, 564, 60, 2, 153, 596, 452, 2, 12, 2, 359, 34, 172, 2, 319, 84, 29, 3, 2, 124, 193, 360, 18, 14, 2, 130, 389, 2, 65, 2, 34, 226, 2, 139, 2, 201, 149, 281, 227, 284, 219, 2, 2, 67, 2, 6, 2, 157, 147, 2, 287, 264, 2, 49, 171, 366, 337, 520, 273, 81, 5, 19, 145, 2, 2, 414, 504, 477, 2, 2, 3, 230, 345, 58, 254, 80, 28, 52, 3, 130, 2, 147, 182, 2, 236, 2, 2, 52, 2, 2, 3, 62, 2, 143, 634, 3, 9, 2, 2, 83, 2, 161, 104, 382, 15, 2, 2, 83, 135, 311, 605, 289, 62, 155, 60, 2, 226, 501, 2, 131, 368, 2, 3, 242, 13, 172, 162, 148, 2, 48, 453, 2, 291, 3, 2, 21, 129, 473, 268, 19, 720, 5, 203, 2, 23, 21, 2, 414, 885, 19, 2, 121, 3, 166, 2, 343, 321, 31, 2, 153, 2, 89, 164, 2, 2, 147, 447, 25, 2, 73, 2, 251, 2, 315, 94, 157, 40, 201, 16, 90, 2, 83, 379, 2, 112, 151, 192, 2, 372, 2, 180, 192, 2, 2, 10, 196, 3, 2, 996, 168, 69, 602, 2, 91, 2, 5, 136, 65, 47, 91, 196, 2, 21, 414, 143, 2, 359, 121, 107, 369, 30, 610, 126, 6, 2, 10, 31, 4, 75, 35, 39, 500, 2, 256, 237, 350, 281, 146, 14, 484, 103, 119, 194, 526, 83, 328, 29, 2, 2, 2, 178, 66, 26, 126, 3, 20, 10, 113, 2, 79, 177, 63, 3, 95, 2, 121, 54, 3, 217, 2, 127, 96, 12, 174, 255, 76, 2, 180, 146, 2, 103, 99, 63, 2, 2, 22, 44, 3, 12, 2, 161, 59, 237, 11, 27, 37, 356, 2, 67, 2, 2, 2, 344, 2, 253, 2, 39, 279, 69, 26, 2, 5, 7, 20, 56, 114, 64, 2, 2, 102, 21, 198, 69, 2, 113, 2, 14, 80, 2, 248, 3, 2, 65, 3, 89, 528, 54, 3, 3, 46, 151, 4, 413, 53, 2, 177, 26, 541, 55, 8, 71, 169, 2, 89, 164, 2, 34, 2, 22, 10, 163, 204, 97, 2, 2, 2, 35, 2, 227, 2, 371, 54, 68, 183, 65, 190, 226, 69, 437, 16, 2, 22, 36, 82, 429, 256, 222, 505, 147, 154, 2, 3, 50, 218, 140, 57, 2, 13, 2, 2, 177, 126, 96, 4, 112, 31, 256, 136, 534, 2, 75, 2, 116, 2, 2, 2, 86, 26, 85, 13, 3, 84, 22, 2, 2, 260, 645, 3, 251, 2, 122, 2, 2, 83, 13, 58, 11, 13, 109, 79, 105, 2, 140, 3, 301, 161, 72, 2, 42, 180, 2, 11, 2, 134, 195, 2, 50, 124, 341, 27, 974, 13, 75, 16, 317, 312, 145, 2, 117, 322, 54, 34, 2, 322, 453, 68, 35, 15, 60, 106, 118, 3, 132, 374, 12, 78, 246, 227, 47, 3, 59, 55, 3, 2, 55, 2, 22, 17, 225, 187, 40, 2, 257, 5, 2, 258, 163, 363, 232, 92, 143, 2, 2, 255, 95, 107, 16, 52, 91, 46, 64, 162, 56, 88, 327, 72, 3, 64, 2, 475, 135, 183, 132, 153, 2, 60, 3, 62, 2, 25, 2, 343, 61, 32, 3, 116, 297, 28, 258, 18, 321, 26, 148, 3, 92, 193, 10, 4, 828, 2, 279, 61, 3, 2, 2, 225, 123, 23, 189, 352, 173, 194, 1186, 181, 199, 134, 121, 12, 25, 268, 64, 218, 101, 131, 382, 65, 2, 2, 2, 106, 2, 237, 427, 237, 14, 11, 2, 8, 281, 2, 3, 374, 153, 62, 136, 21, 63, 209, 40, 2, 569, 20, 907, 138, 145, 215, 39, 3, 2, 95, 63, 202, 2, 155, 451, 2, 269, 219, 2, 171, 3, 2, 216, 93, 164, 155, 83, 60, 357, 2, 24, 2, 154, 129, 153, 650, 34, 2, 298, 39, 2, 76, 465, 186, 3, 241, 2, 140, 2, 161, 223, 2, 298, 58, 118, 74, 2, 598, 9, 2, 23, 2, 60, 2, 57, 145, 462, 2, 153, 96, 4, 212, 2, 2, 2, 116, 445, 7, 2, 2, 87, 2, 429, 33, 2, 2, 189, 50, 2, 2, 110, 120, 2, 311, 58, 249, 502, 741, 149, 26, 388, 161, 3, 2, 23, 40, 2, 52, 3, 568, 2, 2, 34, 109, 141, 2, 228, 204, 93, 2, 51, 25, 97, 202, 2, 2, 155, 429, 274, 2, 45, 2, 49, 3, 204, 100, 55, 52, 887, 156, 137, 13, 395, 3, 357, 3, 339, 2, 16, 2, 111, 2, 43, 247, 15, 2, 78, 396, 259, 59, 55, 63, 330, 2, 294, 2, 24, 371, 4, 249, 70, 448, 282, 2, 298, 42, 262, 2, 214, 13, 2, 19, 184, 123, 143, 198, 277, 2, 2, 73, 318, 2, 2, 53, 155, 2, 50, 316, 310, 2, 2, 99, 2, 15, 164, 2, 170, 66, 137, 55, 202, 268, 59, 2, 143, 2, 194, 229, 199, 2, 243, 83, 52, 2, 311, 20, 2, 8, 324, 180, 330, 9, 2, 2, 110, 80, 61, 117, 102, 228, 2, 2, 70, 2, 128, 445, 30, 108, 443, 2, 38, 237, 195, 89, 2, 123, 10, 77, 2, 162, 74, 148, 111, 88, 2, 230, 2, 233, 242, 190, 99, 125, 155, 781, 24, 37, 259, 380, 99, 277, 2, 40, 326, 2, 2, 242, 77, 69, 23, 4, 190, 97, 66, 150, 47, 251, 94, 3, 2, 192, 116, 438, 62, 197, 2, 80, 32, 37, 208, 2, 2, 419, 250, 2, 146, 2, 150, 11, 111, 144, 120, 281, 345, 58, 3, 109, 801, 217, 2, 257, 9, 2, 57, 111, 66, 220, 228, 211, 2, 134, 72, 145, 183, 63, 2, 2, 42, 203, 216, 2, 23, 46, 328, 277, 304, 4, 372, 2, 11, 317, 596, 96, 279, 2, 42, 14, 29, 28, 34, 326, 2, 119, 2, 23, 61, 3, 254, 214, 397, 55, 2, 13, 2, 4, 2, 47, 141, 94, 17, 213, 2, 81, 4, 62, 80, 2, 46, 260, 2, 466, 3, 2, 2, 3, 2, 21, 3, 46, 81, 3, 78, 10, 2, 157, 4, 14, 2, 312, 35, 165, 18, 125, 39, 53, 461, 74, 170, 1016, 35, 2, 221, 159, 16, 172, 53, 7, 12, 440, 716, 2, 10, 77, 139, 23, 544, 2, 195, 3, 247, 2, 2, 23, 202, 2, 260, 226, 8, 201, 120, 2, 247, 26, 2, 2, 545, 67, 2, 81, 76, 26, 689, 148, 69, 2, 44, 127, 2, 2, 288, 35, 212, 2, 93, 186, 21, 2, 21, 163, 7, 2, 3, 241, 2, 2, 177, 189, 2, 62, 2, 389, 65, 158, 275, 2, 115, 2, 258, 48, 22, 2, 267, 53, 722, 865, 104, 4, 335, 4, 146, 145, 320, 2, 432, 43, 81, 48, 141, 2, 2, 217, 38, 3, 110, 2, 648, 2, 122, 324, 412, 2, 14, 2, 235, 50, 109, 89, 2, 3, 493, 2, 147, 428, 3, 15, 216, 120, 117, 2, 4, 158, 71, 95, 67, 33, 241, 2, 2, 85, 24, 60, 36, 13, 216, 50, 15, 374, 2, 2, 175, 349, 56, 220, 56, 2, 314, 2, 43, 19, 360, 2, 24, 126, 70, 24, 107, 30, 600, 169, 167, 44, 204, 35, 15, 2, 208, 2, 86, 55, 4, 2, 2, 2, 558, 642, 290, 178, 2, 2, 150, 2, 24, 398, 48, 2, 233, 155, 44, 114, 2, 91, 44, 178, 30, 2, 124, 139, 7, 17, 3, 32, 36, 16, 2, 193, 323, 81, 2, 2, 22, 51, 24, 123, 443, 250, 69, 47, 28, 2, 203, 39, 2, 14, 178, 2, 59, 111, 194, 146, 4, 2, 123, 132, 2, 2, 192, 163, 10, 217, 75, 2, 2, 1104, 38, 624, 2, 10, 2, 32, 31, 370, 2, 389, 4, 114, 34, 3, 60, 16, 95, 55, 70, 15, 3, 220, 11, 315, 194, 17, 64, 113, 331, 43, 77, 144, 2, 261, 121, 94, 2, 342, 465, 25, 186, 2, 114, 26, 49, 314, 345, 2, 196, 37, 2, 171, 239, 53, 2, 25, 275, 20, 204, 138, 2, 100, 15, 68, 2, 7, 53, 56, 81, 68, 304, 2, 207, 108, 33, 57, 2, 234, 2, 323, 495, 41, 28, 174, 46, 280, 364, 321, 3, 2, 839, 120, 8, 2, 2, 14, 166, 59, 179, 162, 127, 68, 106, 174, 2, 112, 31, 49, 2, 176, 2, 244, 2, 121, 2, 48, 74, 128, 25, 22, 134, 23, 71, 2, 101, 14, 43, 2, 349, 103, 2, 2, 8, 98, 22, 496, 254, 136, 61, 2, 96, 2, 326, 2, 82, 3, 52, 147, 121, 2, 110, 65, 2, 237, 114, 110, 382, 35, 2, 15, 2, 12, 413, 191, 208, 2, 158, 25, 83, 43, 521, 2, 415, 67, 2, 36, 158, 2, 188, 2, 5, 2, 2, 2, 93, 2, 2, 266, 2, 17, 5, 49, 47, 2, 156, 172, 2, 12, 2, 280, 2, 588, 2, 164, 482, 84, 6, 275, 283, 376, 658, 24, 1122, 2, 192, 316, 40, 25, 461, 2, 263, 305, 2, 46, 51, 110, 112, 4, 35, 235, 67, 45, 62, 4, 216, 155, 56, 2, 22, 141, 4, 57, 303, 2, 64, 115, 2, 2, 49, 56, 66, 72, 3, 45, 2, 524, 2, 88, 109, 534, 2, 22, 544, 151, 180, 2, 103, 2, 2, 92, 51, 20, 73, 2, 55, 59, 2, 393, 66, 2, 91, 155, 2, 3, 28, 2, 2, 303, 2, 51, 551, 189, 109, 618, 123, 6, 623, 96, 2, 2, 3, 89, 2, 257, 132, 2, 37, 104, 2, 89, 225, 2, 2, 324, 3, 172, 284, 288, 2, 21, 45, 14, 478, 302, 2, 59, 2, 2, 204, 362, 40, 2, 26, 40, 298, 56, 390, 37, 321, 79, 173, 74, 121, 517, 2, 2, 45, 2, 239, 67, 30, 82, 93, 188, 510, 47, 3, 59, 28, 219, 2, 138, 331, 12, 88, 2, 290, 141, 140, 14, 167, 2, 66, 2, 94, 2, 102, 166, 222, 167, 50, 332, 132, 655, 2, 67, 2, 205, 3, 2, 106, 3, 2, 72, 102, 139, 361, 2, 26, 76, 500, 370, 2, 236, 2, 2, 17, 29, 39, 2, 178, 125, 2, 207, 89, 11, 162, 230, 98, 2, 378, 37, 2, 17, 56, 4, 2, 60, 2, 477, 206, 296, 13, 206, 3, 527, 2, 18, 17, 117, 2, 99, 2, 80, 28, 46, 2, 7, 2, 303, 325, 2, 43, 59, 190, 451, 133, 8, 439, 2, 20, 3, 19, 790, 51, 2, 45, 36, 5, 2, 53, 147, 3, 225, 140, 205, 2, 4, 2, 214, 241, 142, 2, 749, 2, 3, 97, 269, 2, 239, 297, 83, 448, 2, 2, 48, 566, 2, 439, 2, 467, 333, 261, 95, 5, 2, 318, 29, 176, 2, 53, 41, 340, 567, 2, 444, 247, 176, 47, 2, 396, 2, 181, 118, 170, 52, 54, 2, 210, 356, 92, 618, 165, 324, 23, 22, 266, 90, 2, 2, 150, 3, 76, 125, 55, 284, 3, 73, 60, 3, 162, 103, 686, 90, 9, 31, 100, 360, 62, 73, 104, 2, 2, 2, 239, 403, 110, 103, 153, 2, 90, 183, 210, 58, 23, 2, 2, 538, 2, 2, 52, 2, 111, 2, 93, 188, 48, 169, 2, 3, 412, 144, 85, 3]\n"
     ]
    },
    {
     "data": {
      "image/png": "[encoded data removed]",
      "text/plain": [
       "<Figure size 640x480 with 1 Axes>"
      ]
     },
     "metadata": {},
     "output_type": "display_data"
    }
   ],
   "source": [
    "# random choice1\n",
    "p = []\n",
    "f = []\n",
    "for i in range(env.bin_size_min+1,env.bin_size+1):\n",
    "    temp = (threshold-1/4)*np.exp(i*decay_rate)+1/4\n",
    "    f.append(temp)\n",
    "    p.append((1-temp)/lam)\n",
    "random_protocols = [p,f]\n",
    "print(random_protocols)\n",
    "print(len(p))\n",
    "random_env = te.ToyEnv(random_protocols, num_qubits ,threshold, decay_rate)\n",
    "depth_random = []\n",
    "shots = 2000\n",
    "for i in tqdm(range(shots)):\n",
    "    obs = []\n",
    "    observation, info = env.reset()\n",
    "    obs.append(observation)\n",
    "    while True:\n",
    "        action = np.random.choice(list(range(len(p))))\n",
    "        observation, reward, terminated, truncated, info = random_env.step(action)\n",
    "        obs.append(observation)\n",
    "        # print(observation)\n",
    "        if terminated:\n",
    "            break\n",
    "    depth_random.append(len(obs))\n",
    "\n",
    "m_depth_random = np.mean(depth_random)\n",
    "std_depth_random = np.std(depth_random)\n",
    "plt.hist(depth_random,bins=20)\n",
    "print(m_depth_random)\n",
    "print(std_depth_random)\n",
    "print(depth_random)"
   ]
  },
  {
   "cell_type": "code",
   "execution_count": null,
   "metadata": {},
   "outputs": [],
   "source": [
    "# random choice2\n",
    "depth_random = []\n",
    "shots = 2000\n",
    "for i in tqdm(range(shots)):\n",
    "    obs = []\n",
    "    observation, info = env.reset()\n",
    "    obs.append(observation)\n",
    "    while True:\n",
    "        action = np.random.choice([0,1])\n",
    "        observation, reward, terminated, truncated, info = env.step(action)\n",
    "        obs.append(observation)\n",
    "        # print(observation)\n",
    "        if terminated:\n",
    "            break\n",
    "    depth_random.append(len(obs))\n",
    "\n",
    "m_depth_random = np.mean(depth_random)\n",
    "std_depth_random = np.std(depth_random)\n",
    "plt.hist(depth_random,bins=20)\n",
    "print(m_depth_random)\n",
    "print(std_depth_random)\n",
    "print(depth_random)"
   ]
  },
  {
   "cell_type": "code",
   "execution_count": 47,
   "metadata": {},
   "outputs": [
    {
     "data": {
      "text/plain": [
       "7.870959280799259"
      ]
     },
     "execution_count": 47,
     "metadata": {},
     "output_type": "execute_result"
    }
   ],
   "source": [
    "2*176/np.sqrt(2000)"
   ]
  },
  {
   "cell_type": "code",
   "execution_count": 44,
   "metadata": {},
   "outputs": [
    {
     "name": "stdout",
     "output_type": "stream",
     "text": [
      "the total bin size is:\n",
      "3.0\n",
      "the bins are:\n",
      "[3.0]\n"
     ]
    },
    {
     "name": "stderr",
     "output_type": "stream",
     "text": [
      "100%|██████████| 2000/2000 [00:01<00:00, 1982.11it/s]\n"
     ]
    },
    {
     "name": "stdout",
     "output_type": "stream",
     "text": [
      "177.326\n",
      "176.11661683100775\n",
      "[69, 24, 42, 46, 74, 93, 471, 31, 37, 142, 17, 97, 231, 90, 145, 93, 211, 77, 139, 177, 31, 302, 67, 328, 23, 98, 88, 140, 92, 81, 480, 60, 113, 219, 397, 328, 17, 421, 499, 101, 955, 149, 368, 16, 76, 122, 37, 112, 162, 7, 376, 51, 312, 80, 620, 51, 323, 8, 368, 53, 218, 173, 215, 396, 79, 143, 356, 39, 170, 203, 136, 256, 268, 256, 269, 14, 622, 175, 43, 290, 90, 21, 81, 72, 202, 35, 58, 68, 177, 528, 91, 61, 33, 200, 374, 116, 227, 190, 20, 76, 142, 328, 136, 173, 105, 491, 43, 300, 72, 253, 73, 148, 33, 792, 205, 10, 361, 148, 115, 68, 162, 597, 210, 151, 95, 280, 130, 568, 294, 342, 49, 339, 8, 12, 372, 179, 14, 22, 398, 94, 475, 146, 20, 581, 223, 97, 27, 188, 154, 195, 33, 65, 567, 5, 253, 375, 42, 22, 38, 86, 96, 96, 33, 112, 78, 108, 388, 155, 83, 62, 197, 153, 147, 182, 57, 89, 238, 130, 219, 154, 170, 35, 62, 169, 322, 220, 868, 96, 80, 22, 140, 58, 450, 75, 72, 472, 265, 10, 200, 162, 88, 34, 19, 556, 123, 149, 267, 419, 44, 208, 19, 138, 266, 184, 494, 101, 29, 30, 58, 526, 32, 57, 26, 42, 371, 1858, 129, 65, 264, 69, 127, 102, 239, 120, 123, 801, 192, 307, 109, 326, 494, 249, 375, 90, 72, 265, 114, 222, 45, 106, 51, 48, 174, 47, 58, 602, 68, 114, 187, 273, 37, 61, 178, 192, 78, 33, 167, 214, 141, 40, 17, 61, 209, 544, 247, 34, 148, 75, 163, 201, 301, 440, 18, 190, 138, 306, 156, 32, 142, 99, 283, 22, 230, 7, 270, 74, 75, 38, 18, 7, 138, 690, 38, 258, 72, 233, 190, 95, 48, 78, 12, 1798, 57, 161, 292, 389, 72, 212, 57, 75, 553, 64, 171, 229, 236, 8, 154, 12, 357, 381, 252, 70, 317, 184, 18, 595, 180, 38, 229, 34, 258, 729, 27, 402, 95, 189, 199, 170, 31, 77, 167, 69, 7, 193, 113, 123, 63, 286, 529, 178, 79, 477, 104, 305, 185, 9, 283, 66, 9, 247, 185, 149, 576, 262, 30, 25, 48, 28, 53, 243, 206, 5, 154, 202, 263, 355, 248, 11, 194, 867, 227, 177, 160, 249, 47, 115, 31, 516, 268, 172, 101, 43, 485, 206, 92, 157, 132, 5, 385, 92, 185, 172, 200, 17, 43, 32, 32, 71, 78, 42, 29, 177, 390, 209, 44, 257, 121, 99, 43, 350, 335, 174, 47, 34, 126, 118, 41, 8, 191, 165, 304, 74, 144, 6, 187, 36, 221, 149, 109, 74, 42, 141, 68, 32, 177, 288, 119, 260, 13, 242, 319, 139, 370, 7, 227, 137, 26, 499, 78, 117, 7, 5, 365, 39, 167, 107, 514, 23, 21, 41, 119, 252, 249, 181, 375, 409, 142, 18, 16, 316, 35, 341, 90, 299, 123, 37, 134, 590, 61, 23, 104, 77, 100, 209, 30, 201, 102, 306, 375, 10, 59, 83, 416, 35, 137, 493, 273, 76, 262, 35, 216, 106, 97, 90, 122, 159, 95, 170, 28, 157, 47, 7, 253, 435, 98, 213, 169, 97, 356, 493, 376, 186, 450, 295, 24, 89, 404, 192, 154, 236, 253, 333, 44, 67, 139, 48, 213, 67, 115, 5, 29, 7, 95, 290, 135, 190, 573, 29, 119, 138, 273, 96, 912, 171, 642, 405, 197, 42, 28, 291, 31, 484, 286, 294, 36, 74, 151, 80, 85, 32, 30, 35, 127, 65, 168, 84, 198, 428, 77, 904, 181, 177, 247, 29, 371, 108, 143, 328, 221, 263, 35, 118, 152, 39, 99, 234, 121, 494, 13, 106, 106, 14, 34, 224, 54, 320, 469, 158, 250, 365, 44, 348, 80, 263, 58, 125, 386, 407, 14, 194, 213, 169, 71, 127, 81, 16, 59, 29, 124, 48, 182, 80, 93, 55, 275, 36, 485, 83, 330, 116, 101, 287, 49, 54, 301, 216, 65, 76, 390, 293, 78, 411, 111, 259, 12, 802, 135, 23, 402, 638, 233, 97, 360, 329, 146, 6, 141, 198, 58, 286, 14, 249, 30, 6, 114, 103, 440, 73, 213, 204, 794, 123, 318, 201, 353, 180, 10, 60, 22, 40, 155, 129, 17, 42, 100, 145, 88, 69, 545, 345, 459, 92, 498, 223, 113, 338, 94, 178, 34, 68, 323, 102, 65, 144, 72, 159, 19, 124, 57, 88, 285, 235, 278, 875, 88, 30, 195, 70, 158, 147, 204, 110, 199, 116, 297, 179, 223, 10, 22, 23, 13, 210, 138, 429, 425, 83, 142, 95, 253, 7, 172, 17, 19, 57, 98, 296, 52, 310, 85, 109, 169, 282, 194, 73, 16, 267, 200, 106, 217, 461, 91, 219, 9, 160, 13, 295, 382, 29, 317, 211, 15, 27, 126, 77, 9, 120, 14, 62, 48, 234, 177, 220, 22, 65, 111, 151, 750, 6, 676, 410, 10, 72, 238, 522, 328, 354, 534, 65, 18, 348, 129, 8, 352, 150, 270, 312, 113, 8, 7, 102, 272, 34, 36, 41, 90, 100, 505, 136, 26, 42, 195, 154, 24, 28, 231, 26, 57, 1147, 180, 183, 209, 374, 327, 1076, 250, 82, 229, 20, 406, 13, 39, 61, 21, 91, 21, 58, 109, 240, 126, 32, 189, 42, 342, 16, 145, 85, 160, 51, 449, 388, 396, 61, 274, 267, 30, 52, 81, 43, 26, 153, 314, 188, 351, 310, 36, 122, 240, 142, 7, 393, 502, 131, 170, 74, 84, 45, 26, 107, 247, 227, 188, 69, 72, 140, 68, 75, 75, 87, 251, 240, 324, 46, 103, 74, 141, 234, 181, 342, 47, 363, 70, 28, 226, 250, 290, 430, 260, 348, 125, 128, 279, 95, 49, 531, 112, 84, 16, 179, 38, 164, 234, 170, 384, 128, 158, 24, 129, 109, 174, 849, 20, 282, 606, 148, 73, 166, 23, 5, 261, 108, 378, 239, 5, 137, 152, 196, 34, 25, 182, 179, 399, 178, 61, 89, 201, 174, 133, 21, 153, 10, 136, 175, 409, 36, 160, 254, 88, 52, 315, 198, 23, 109, 136, 835, 23, 356, 30, 242, 123, 172, 7, 12, 154, 25, 86, 5, 181, 131, 284, 143, 93, 134, 123, 230, 463, 20, 142, 8, 139, 291, 35, 503, 130, 9, 9, 143, 87, 366, 41, 440, 60, 104, 53, 29, 287, 43, 314, 15, 87, 106, 59, 155, 372, 44, 130, 49, 193, 334, 197, 206, 39, 150, 210, 46, 11, 38, 76, 249, 202, 97, 68, 100, 27, 38, 71, 53, 57, 35, 23, 327, 104, 46, 147, 92, 214, 50, 12, 393, 142, 66, 254, 63, 154, 69, 91, 117, 61, 226, 520, 11, 111, 39, 380, 39, 283, 117, 193, 62, 293, 122, 83, 329, 38, 67, 165, 29, 265, 56, 374, 25, 42, 32, 47, 27, 276, 99, 88, 137, 165, 356, 266, 105, 74, 146, 297, 109, 65, 25, 92, 45, 125, 141, 148, 40, 200, 48, 35, 457, 156, 28, 299, 222, 108, 143, 19, 16, 104, 86, 44, 5, 228, 704, 71, 19, 121, 335, 27, 200, 49, 434, 428, 151, 221, 127, 78, 240, 161, 150, 406, 74, 356, 392, 92, 34, 76, 188, 106, 155, 317, 45, 200, 204, 193, 121, 35, 176, 285, 144, 48, 18, 94, 70, 164, 25, 55, 139, 244, 149, 315, 113, 161, 81, 95, 25, 552, 89, 777, 28, 164, 225, 217, 272, 10, 107, 160, 174, 88, 786, 61, 272, 15, 37, 142, 412, 170, 49, 327, 422, 268, 261, 261, 102, 53, 120, 344, 27, 13, 423, 395, 25, 221, 136, 307, 32, 308, 493, 193, 56, 336, 86, 420, 48, 5, 128, 64, 230, 93, 106, 33, 88, 139, 84, 535, 271, 49, 6, 139, 126, 17, 73, 32, 255, 550, 171, 226, 44, 47, 107, 85, 59, 238, 139, 8, 371, 103, 45, 63, 629, 242, 72, 49, 24, 826, 129, 604, 42, 8, 24, 192, 355, 10, 145, 82, 170, 94, 38, 155, 163, 62, 399, 198, 48, 48, 40, 197, 297, 201, 19, 500, 27, 195, 68, 287, 29, 112, 50, 116, 100, 46, 329, 66, 5, 850, 294, 55, 737, 26, 5, 58, 424, 123, 108, 66, 74, 162, 219, 113, 360, 33, 161, 159, 45, 78, 66, 93, 44, 23, 73, 36, 811, 61, 729, 292, 171, 153, 159, 121, 167, 207, 303, 47, 31, 236, 17, 60, 397, 846, 45, 63, 7, 416, 162, 37, 518, 5, 299, 225, 35, 98, 124, 539, 7, 183, 203, 140, 379, 30, 48, 69, 263, 841, 155, 304, 178, 427, 370, 110, 70, 137, 954, 16, 15, 246, 274, 47, 28, 46, 168, 33, 224, 142, 42, 42, 25, 52, 78, 121, 474, 42, 161, 235, 10, 95, 222, 33, 30, 487, 191, 213, 115, 28, 50, 47, 395, 117, 33, 64, 426, 226, 580, 121, 675, 9, 328, 38, 200, 95, 560, 182, 66, 260, 7, 146, 200, 806, 16, 10, 220, 39, 78, 36, 155, 15, 14, 22, 100, 366, 42, 17, 170, 446, 104, 247, 174, 23, 217, 104, 137, 43, 114, 33, 240, 146, 41, 514, 6, 75, 97, 181, 187, 419, 387, 931, 232, 35, 394, 130, 133, 15, 43, 88, 237, 66, 208, 363, 31, 418, 30, 155, 59, 25, 264, 386, 64, 116, 98, 199, 732, 174, 30, 19, 51, 317, 554, 126, 34, 352, 24, 207, 266, 167, 42, 52, 191, 389, 243, 6, 438, 5, 530, 56, 70, 39, 750, 115, 403, 90, 7, 167, 164, 88, 32, 177, 47, 228, 40, 281, 194, 97, 193, 131, 332, 133, 38, 25, 98, 34, 61, 32, 26, 587, 834, 197, 77, 50, 232, 55, 25, 188, 382, 21, 340, 113, 30, 472, 103, 259, 17, 118, 52, 34, 28, 181, 71, 71, 64, 332, 40, 241, 29, 125, 172, 310, 56, 53, 417, 8, 98, 124, 139, 53, 28, 173, 91, 39, 216, 111, 107, 105, 339, 982, 25, 401, 45, 272, 137, 100, 154, 33, 840, 26, 310, 158, 205, 17, 306, 96, 21, 304, 83, 152, 332, 154, 60, 6, 159, 87, 149, 126, 17, 420, 8, 113, 65, 53, 242, 215, 62, 100, 161, 326, 6, 232, 63, 187, 64, 508, 96, 180, 147, 393, 149, 96, 34, 23, 433, 415, 10, 36, 26, 713, 76, 226, 11, 35, 202, 179, 393, 214, 49, 48, 35, 217, 65, 47, 78, 146, 415, 483, 117, 38, 160, 139, 199, 237, 13, 22, 115, 50, 10, 298, 204, 240, 478, 177, 20, 631, 55, 57, 279, 21, 110, 229, 611, 99, 83, 20, 134, 11, 146, 19, 91, 194, 50, 189, 79, 31, 182, 293, 419, 245, 175, 31, 297, 19, 56, 46, 44, 686, 246, 319, 202, 227, 111, 36, 343, 236, 153, 94, 54, 132, 949, 224, 93, 557, 29, 124, 162, 292, 141, 177, 42, 100, 264, 80, 347, 84, 255, 189, 79, 343, 347, 78, 299, 228, 469, 19, 151, 92, 434, 94, 79, 108, 210, 31, 61, 188, 51, 7, 35, 373, 66, 177, 9, 73, 724, 356, 140, 41, 34, 180, 24, 17, 181, 1174, 240, 503, 193, 335, 547, 183, 316, 8, 298, 529, 449, 46, 69, 27, 123, 87, 369, 237, 55, 415, 176, 80, 379, 45, 55, 40, 398, 140, 8, 74, 58, 49, 502, 63, 89, 211, 72, 326, 177, 103, 166, 43, 248, 319, 90, 10, 294, 266, 62, 796, 219, 134, 248, 112, 69, 109, 162, 391, 6, 45, 32, 16, 11, 278, 474, 224, 186, 75, 284, 97, 149, 395, 489, 81, 284, 125, 477, 170, 405, 71, 237, 32, 165, 141, 62, 116, 21, 57, 109, 195, 315, 243, 27, 39, 95, 10, 35, 54, 72, 86, 221, 28, 339, 29, 701, 265, 317, 238, 95, 422, 58, 309, 205, 174, 203, 15, 385, 113, 90, 356, 420, 51, 147, 112, 115, 351, 119, 89, 6, 12, 298, 113, 163, 321, 14, 732, 191, 9, 142, 117, 175, 517, 55, 30, 89, 104, 947, 305, 18, 552, 41, 210, 67, 147, 58]\n"
     ]
    },
    {
     "data": {
      "image/png": "[encoded data removed]",
      "text/plain": [
       "<Figure size 640x480 with 1 Axes>"
      ]
     },
     "metadata": {},
     "output_type": "display_data"
    }
   ],
   "source": [
    "# fixed action\n",
    "protocols_fixed = [[0.3],[0.7]]\n",
    "env_fixed = te.ToyEnv(protocols_fixed, num_qubits ,threshold, decay_rate)\n",
    "\n",
    "depth_fixed = []\n",
    "shots = 2000\n",
    "for i in tqdm(range(shots)):\n",
    "    obs = []\n",
    "    observation, info = env_fixed.reset()\n",
    "    obs.append(observation)\n",
    "    while True:\n",
    "        observation, reward, terminated, truncated, info = env_fixed.step(0)\n",
    "        obs.append(observation)\n",
    "        # print(observation)\n",
    "        if terminated:\n",
    "            break\n",
    "    depth_fixed.append(len(obs))\n",
    "\n",
    "m_depth_fixed = np.mean(depth_fixed)\n",
    "std_depth_fixed = np.std(depth_fixed)\n",
    "plt.hist(depth_fixed,bins=100)\n",
    "print(m_depth_fixed)\n",
    "print(std_depth_fixed)\n",
    "print(depth_fixed)"
   ]
  },
  {
   "cell_type": "markdown",
   "metadata": {},
   "source": [
    "### Heuristics(discrete)"
   ]
  },
  {
   "cell_type": "code",
   "execution_count": 14,
   "metadata": {},
   "outputs": [
    {
     "name": "stdout",
     "output_type": "stream",
     "text": [
      "[1, 1, 1, 0]\n"
     ]
    }
   ],
   "source": [
    "def policy_maker(protocols, threshold, decay_rate, alpha = 1):\n",
    "    probs = protocols[0].copy()\n",
    "    ahead = 0\n",
    "    bins = []\n",
    "    for f in protocols[1]:\n",
    "        bin = np.floor(np.log((f-0.25)/(threshold-0.25))/decay_rate)\n",
    "        bins.append(bin)\n",
    "    policy = []\n",
    "    count = 0\n",
    "    for i in range(num_qubits):\n",
    "        policy.append(np.argmax(probs))\n",
    "        ahead = ahead + alpha/protocols[0][policy[i]]\n",
    "        e_t = np.ceil(ahead)\n",
    "        for j in range(len(probs)):\n",
    "            temp = bins[j] - e_t\n",
    "            if temp<0 and count<len(probs) :\n",
    "                probs[j] = -1\n",
    "                count = count + 1\n",
    "    return policy[::-1]\n",
    "\n",
    "print(policy_maker(protocols,threshold,decay_rate))\n"
   ]
  },
  {
   "cell_type": "code",
   "execution_count": 17,
   "metadata": {},
   "outputs": [
    {
     "name": "stderr",
     "output_type": "stream",
     "text": [
      "100%|██████████| 1/1 [00:00<00:00, 500.22it/s]\n"
     ]
    },
    {
     "name": "stdout",
     "output_type": "stream",
     "text": [
      "can run one batch\n"
     ]
    },
    {
     "name": "stderr",
     "output_type": "stream",
     "text": [
      "100%|██████████| 100/100 [00:00<00:00, 2564.49it/s]"
     ]
    },
    {
     "name": "stdout",
     "output_type": "stream",
     "text": [
      "121.9\n",
      "109.96694958031708\n"
     ]
    },
    {
     "name": "stderr",
     "output_type": "stream",
     "text": [
      "\n"
     ]
    }
   ],
   "source": [
    "def batch_heuristic(shots, env, policy):\n",
    "    depth_heuristic = []\n",
    "    for i in tqdm(range(shots)):\n",
    "        obs = []\n",
    "        observation, info = env.reset()\n",
    "        obs.append(observation)\n",
    "        while True:\n",
    "            action = policy[len(obs[-1])]\n",
    "            observation, reward, terminated, truncated, info = env.step(action)\n",
    "            obs.append(observation)\n",
    "            # print(observation)\n",
    "            if terminated:\n",
    "                break\n",
    "        depth_heuristic.append(len(obs))\n",
    "    return depth_heuristic\n",
    "\n",
    "policy = policy_maker(protocols, threshold, decay_rate)\n",
    "test = batch_heuristic(1,env,policy)\n",
    "print('can run one batch')\n",
    "depth_heuristic = batch_heuristic(100,env,policy)\n",
    "print(np.mean(depth_heuristic))\n",
    "print(np.std(depth_heuristic))\n"
   ]
  },
  {
   "cell_type": "code",
   "execution_count": 62,
   "metadata": {},
   "outputs": [
    {
     "name": "stdout",
     "output_type": "stream",
     "text": [
      "[0, 0, 1, 1]\n",
      "[0, 0, 1, 1]\n",
      "[0, 0, 1, 1]\n",
      "[0, 0, 1, 1]\n",
      "[0, 0, 1, 1]\n",
      "[0, 0, 1, 1]\n",
      "[0, 0, 1, 1]\n",
      "[0, 0, 1, 1]\n",
      "[0, 0, 1, 1]\n",
      "[0, 0, 0, 1]\n",
      "[0, 0, 0, 1]\n",
      "[0, 0, 0, 1]\n",
      "[0, 0, 0, 1]\n",
      "[0, 0, 0, 1]\n",
      "[0, 0, 0, 1]\n",
      "[0, 0, 0, 1]\n",
      "[0, 0, 0, 1]\n",
      "[0, 0, 0, 1]\n",
      "[0, 0, 0, 1]\n",
      "[0, 0, 0, 1]\n",
      "[0, 0, 0, 1]\n",
      "[0, 0, 0, 1]\n",
      "[0, 0, 0, 1]\n",
      "[0, 0, 0, 1]\n",
      "[0, 0, 0, 1]\n",
      "[0, 0, 0, 1]\n",
      "[0, 0, 0, 1]\n",
      "[0, 0, 0, 1]\n",
      "[0, 0, 0, 1]\n",
      "[0, 0, 0, 1]\n",
      "[0, 0, 0, 1]\n",
      "[0, 0, 0, 1]\n",
      "[0, 0, 0, 1]\n",
      "[0, 0, 0, 1]\n",
      "[0, 0, 0, 1]\n",
      "[0, 0, 0, 1]\n",
      "[0, 0, 0, 1]\n",
      "[0, 0, 0, 1]\n",
      "[0, 0, 0, 1]\n",
      "[0, 0, 0, 1]\n",
      "[0, 0, 0, 1]\n",
      "[0, 0, 0, 1]\n",
      "[0, 0, 0, 1]\n",
      "[0, 0, 0, 1]\n",
      "[0, 0, 0, 1]\n",
      "[0, 0, 0, 1]\n",
      "[0, 0, 0, 1]\n",
      "[0, 0, 0, 1]\n",
      "[0, 0, 0, 1]\n",
      "[0, 0, 0, 1]\n",
      "[0, 0, 0, 1]\n",
      "[0, 0, 0, 1]\n",
      "[0, 0, 0, 1]\n",
      "[0, 0, 0, 1]\n",
      "[0, 0, 0, 1]\n",
      "[0, 0, 0, 1]\n",
      "[0, 0, 0, 1]\n",
      "[0, 0, 0, 1]\n",
      "[0, 0, 0, 1]\n",
      "[0, 0, 0, 1]\n",
      "[0, 0, 0, 1]\n",
      "[0, 0, 0, 1]\n",
      "[0, 0, 0, 1]\n",
      "[0, 0, 0, 1]\n",
      "[0, 0, 0, 1]\n",
      "[0, 0, 0, 1]\n",
      "[0, 0, 0, 1]\n",
      "[0, 0, 0, 1]\n",
      "[0, 0, 0, 1]\n",
      "[0, 0, 0, 1]\n",
      "[0, 0, 0, 1]\n",
      "[0, 0, 0, 1]\n",
      "[0, 0, 0, 1]\n",
      "[0, 0, 0, 1]\n",
      "[0, 0, 0, 1]\n",
      "[0, 0, 0, 1]\n",
      "[0, 0, 0, 1]\n",
      "[0, 0, 0, 1]\n",
      "[0, 0, 0, 1]\n",
      "[0, 0, 0, 1]\n",
      "[0, 0, 0, 1]\n",
      "[0, 0, 0, 1]\n",
      "[0, 0, 0, 1]\n",
      "[0, 0, 0, 1]\n",
      "[0, 0, 0, 1]\n",
      "[0, 0, 0, 1]\n",
      "[0, 0, 0, 1]\n",
      "[0, 0, 0, 1]\n",
      "[0, 0, 0, 1]\n",
      "[0, 0, 0, 1]\n",
      "[0, 0, 0, 1]\n",
      "[0, 0, 0, 1]\n",
      "[0, 0, 0, 1]\n",
      "[0, 0, 0, 1]\n",
      "[0, 0, 0, 1]\n",
      "[0, 0, 0, 1]\n",
      "[0, 0, 0, 1]\n",
      "[0, 0, 0, 1]\n",
      "[0, 0, 0, 1]\n",
      "[0, 0, 0, 1]\n",
      "73.2505\n"
     ]
    },
    {
     "data": {
      "image/png": "[encoded data removed]",
      "text/plain": [
       "<Figure size 640x480 with 1 Axes>"
      ]
     },
     "metadata": {},
     "output_type": "display_data"
    },
    {
     "data": {
      "image/png": "[encoded data removed]",
      "text/plain": [
       "<Figure size 640x480 with 1 Axes>"
      ]
     },
     "metadata": {},
     "output_type": "display_data"
    }
   ],
   "source": [
    "\n",
    "h_mean = []\n",
    "h_std = []\n",
    "space = np.linspace(0.3,1.5,100)\n",
    "for alpha in space:\n",
    "    policy = policy_maker(protocols, threshold, decay_rate, alpha)\n",
    "    print(policy)\n",
    "    depth_heuristic = batch_heuristic(2000,env,policy)\n",
    "    h_mean.append(np.mean(depth_heuristic))\n",
    "    h_std.append(np.std(depth_heuristic))\n",
    "\n",
    "print(np.amin(h_mean))\n",
    "plt.plot(space, h_mean)\n",
    "plt.show()\n",
    "plt.plot(space, h_std)\n",
    "plt.show()"
   ]
  },
  {
   "cell_type": "markdown",
   "metadata": {},
   "source": [
    "### Native continuous action"
   ]
  },
  {
   "cell_type": "code",
   "execution_count": 18,
   "metadata": {},
   "outputs": [
    {
     "name": "stdout",
     "output_type": "stream",
     "text": [
      "the upper bin size is:\n",
      "47.0\n",
      "the lower bin size\n",
      "16.0\n"
     ]
    }
   ],
   "source": [
    "#case natively continuous\n",
    "import acnt_env as cenv\n",
    "\n",
    "protocols = [[0.1,0.4],[0.9,0.6]]\n",
    "num_qubits = 15\n",
    "threshold = 1/2\n",
    "decay_rate = 0.02\n",
    "\n",
    "\n",
    "cnt_env = cenv.AcntEnv(protocols, num_qubits ,threshold, decay_rate)\n"
   ]
  },
  {
   "cell_type": "code",
   "execution_count": 19,
   "metadata": {},
   "outputs": [
    {
     "name": "stdout",
     "output_type": "stream",
     "text": [
      "([0, 0, 0, 0.27458346872299494, 0.4885394104412695, 0.6175599651280482, 0.7366609481792843, 0.8466050125045986, 0.9480961754714795, 1, 1, 1, 1, 1, 1], [47.0, 47.0, 47.0, 41.0, 35.0, 31.0, 27.0, 23.0, 19.0, 16.0, 16.0, 16.0, 16.0, 16.0, 16.0])\n"
     ]
    }
   ],
   "source": [
    "def policy_maker_ct(env, alpha = 1.15):\n",
    "    ahead = 0\n",
    "    policy = []\n",
    "    policy_bin = []\n",
    "    for i in range(env.num_qubits):\n",
    "        n = alpha*ahead\n",
    "        tp_n = np.floor(n)\n",
    "        f_q = (env.threshold - 1/4)*np.exp(env.decay_rate*tp_n) + 1/4\n",
    "        q = (env.F_max-f_q)/(env.F_max-env.F_min)\n",
    "        if q<0:\n",
    "            q = 0\n",
    "            tp_n = env.bin_size\n",
    "        elif q>1:\n",
    "            q = 1\n",
    "            tp_n = env.bin_size_min\n",
    "        policy.append(q)\n",
    "        policy_bin.append(tp_n)\n",
    "        ahead = ahead + alpha/(env.p_max*policy[i]+env.p_min*(1-policy[i]))\n",
    "    return policy[::-1], policy_bin[::-1]\n",
    "\n",
    "print(policy_maker_ct(cnt_env))"
   ]
  },
  {
   "cell_type": "code",
   "execution_count": 20,
   "metadata": {},
   "outputs": [
    {
     "name": "stderr",
     "output_type": "stream",
     "text": [
      "100%|██████████| 1/1 [00:00<00:00, 501.77it/s]\n"
     ]
    },
    {
     "name": "stdout",
     "output_type": "stream",
     "text": [
      "can run one batch\n"
     ]
    },
    {
     "name": "stderr",
     "output_type": "stream",
     "text": [
      "100%|██████████| 200/200 [00:00<00:00, 600.57it/s]\n"
     ]
    },
    {
     "name": "stdout",
     "output_type": "stream",
     "text": [
      "160.78\n",
      "164.2876489575525\n"
     ]
    },
    {
     "data": {
      "image/png": "[encoded data removed]",
      "text/plain": [
       "<Figure size 640x480 with 1 Axes>"
      ]
     },
     "metadata": {},
     "output_type": "display_data"
    }
   ],
   "source": [
    "def batch_heuristic(shots, env, policy):\n",
    "    depth_heuristic = []\n",
    "    for i in tqdm(range(shots)):\n",
    "        obs = []\n",
    "        observation, info = env.reset()\n",
    "        obs.append(observation)\n",
    "        while True:\n",
    "            action = policy[len(obs[-1])]\n",
    "            observation, reward, terminated, truncated, info = env.step(action)\n",
    "            obs.append(observation)\n",
    "            # print(observation)\n",
    "            if terminated:\n",
    "                break\n",
    "        depth_heuristic.append(len(obs))\n",
    "    return depth_heuristic\n",
    "\n",
    "policy = policy_maker_ct(cnt_env,1.2)[0]\n",
    "test = batch_heuristic(1,cnt_env,policy)\n",
    "print('can run one batch')\n",
    "depth_heuristic = batch_heuristic(200,cnt_env,policy)\n",
    "plt.hist(depth_heuristic,bins=100)\n",
    "print(np.mean(depth_heuristic))\n",
    "print(np.std(depth_heuristic))"
   ]
  },
  {
   "cell_type": "code",
   "execution_count": 21,
   "metadata": {},
   "outputs": [
    {
     "name": "stdout",
     "output_type": "stream",
     "text": [
      "the upper bin size is:\n",
      "47.0\n",
      "the lower bin size\n",
      "16.0\n",
      "[1] [16.0] 1.15\n"
     ]
    },
    {
     "name": "stderr",
     "output_type": "stream",
     "text": [
      "100%|██████████| 2000/2000 [00:00<00:00, 88808.75it/s]\n"
     ]
    },
    {
     "name": "stdout",
     "output_type": "stream",
     "text": [
      "the upper bin size is:\n",
      "47.0\n",
      "the lower bin size\n",
      "16.0\n",
      "[1, 1] [16.0, 16.0] 1.15\n"
     ]
    },
    {
     "name": "stderr",
     "output_type": "stream",
     "text": [
      "100%|██████████| 2000/2000 [00:00<00:00, 45453.41it/s]\n"
     ]
    },
    {
     "name": "stdout",
     "output_type": "stream",
     "text": [
      "the upper bin size is:\n",
      "47.0\n",
      "the lower bin size\n",
      "16.0\n",
      "[1, 1, 1] [16.0, 16.0, 16.0] 1.15\n"
     ]
    },
    {
     "name": "stderr",
     "output_type": "stream",
     "text": [
      "100%|██████████| 2000/2000 [00:00<00:00, 33334.29it/s]\n"
     ]
    },
    {
     "name": "stdout",
     "output_type": "stream",
     "text": [
      "the upper bin size is:\n",
      "47.0\n",
      "the lower bin size\n",
      "16.0\n",
      "[1, 1, 1, 1] [16.0, 16.0, 16.0, 16.0] 1.15\n"
     ]
    },
    {
     "name": "stderr",
     "output_type": "stream",
     "text": [
      "100%|██████████| 2000/2000 [00:00<00:00, 25975.18it/s]\n"
     ]
    },
    {
     "name": "stdout",
     "output_type": "stream",
     "text": [
      "the upper bin size is:\n",
      "47.0\n",
      "the lower bin size\n",
      "16.0\n",
      "[1, 1, 1, 1, 1] [16.0, 16.0, 16.0, 16.0, 16.0] 1.15\n"
     ]
    },
    {
     "name": "stderr",
     "output_type": "stream",
     "text": [
      "100%|██████████| 2000/2000 [00:00<00:00, 18868.27it/s]\n"
     ]
    },
    {
     "name": "stdout",
     "output_type": "stream",
     "text": [
      "the upper bin size is:\n",
      "47.0\n",
      "the lower bin size\n",
      "16.0\n",
      "[1, 1, 1, 1, 1, 1] [16.0, 16.0, 16.0, 16.0, 16.0, 16.0] 1.15\n"
     ]
    },
    {
     "name": "stderr",
     "output_type": "stream",
     "text": [
      "100%|██████████| 2000/2000 [00:00<00:00, 15149.11it/s]\n"
     ]
    },
    {
     "name": "stdout",
     "output_type": "stream",
     "text": [
      "the upper bin size is:\n",
      "47.0\n",
      "the lower bin size\n",
      "16.0\n",
      "[0.9480961754714795, 1, 1, 1, 1, 1, 1] [19.0, 16.0, 16.0, 16.0, 16.0, 16.0, 16.0] 1.15\n"
     ]
    },
    {
     "name": "stderr",
     "output_type": "stream",
     "text": [
      "100%|██████████| 2000/2000 [00:00<00:00, 10810.86it/s]\n"
     ]
    },
    {
     "name": "stdout",
     "output_type": "stream",
     "text": [
      "the upper bin size is:\n",
      "47.0\n",
      "the lower bin size\n",
      "16.0\n",
      "[0.8466050125045986, 0.9480961754714795, 1, 1, 1, 1, 1, 1] [23.0, 19.0, 16.0, 16.0, 16.0, 16.0, 16.0, 16.0] 1.15\n"
     ]
    },
    {
     "name": "stderr",
     "output_type": "stream",
     "text": [
      "100%|██████████| 2000/2000 [00:00<00:00, 9479.62it/s]\n"
     ]
    },
    {
     "name": "stdout",
     "output_type": "stream",
     "text": [
      "the upper bin size is:\n",
      "47.0\n",
      "the lower bin size\n",
      "16.0\n",
      "[0.7366609481792843, 0.8466050125045986, 0.9480961754714795, 1, 1, 1, 1, 1, 1] [27.0, 23.0, 19.0, 16.0, 16.0, 16.0, 16.0, 16.0, 16.0] 1.15\n"
     ]
    },
    {
     "name": "stderr",
     "output_type": "stream",
     "text": [
      "100%|██████████| 2000/2000 [00:00<00:00, 7299.32it/s]\n"
     ]
    },
    {
     "name": "stdout",
     "output_type": "stream",
     "text": [
      "the upper bin size is:\n",
      "47.0\n",
      "the lower bin size\n",
      "16.0\n",
      "[0.6175599651280482, 0.7366609481792843, 0.8466050125045986, 0.9480961754714795, 1, 1, 1, 1, 1, 1] [31.0, 27.0, 23.0, 19.0, 16.0, 16.0, 16.0, 16.0, 16.0, 16.0] 1.15\n"
     ]
    },
    {
     "name": "stderr",
     "output_type": "stream",
     "text": [
      "100%|██████████| 2000/2000 [00:00<00:00, 5555.31it/s]\n"
     ]
    },
    {
     "name": "stdout",
     "output_type": "stream",
     "text": [
      "the upper bin size is:\n",
      "47.0\n",
      "the lower bin size\n",
      "16.0\n",
      "[0.4885394104412695, 0.6175599651280482, 0.7366609481792843, 0.8466050125045986, 0.9480961754714795, 1, 1, 1, 1, 1, 1] [35.0, 31.0, 27.0, 23.0, 19.0, 16.0, 16.0, 16.0, 16.0, 16.0, 16.0] 1.15\n"
     ]
    },
    {
     "name": "stderr",
     "output_type": "stream",
     "text": [
      "100%|██████████| 2000/2000 [00:00<00:00, 3952.48it/s]\n"
     ]
    },
    {
     "name": "stdout",
     "output_type": "stream",
     "text": [
      "the upper bin size is:\n",
      "47.0\n",
      "the lower bin size\n",
      "16.0\n",
      "[0.27458346872299494, 0.4885394104412695, 0.6175599651280482, 0.7366609481792843, 0.8466050125045986, 0.9480961754714795, 1, 1, 1, 1, 1, 1] [41.0, 35.0, 31.0, 27.0, 23.0, 19.0, 16.0, 16.0, 16.0, 16.0, 16.0, 16.0] 1.15\n"
     ]
    },
    {
     "name": "stderr",
     "output_type": "stream",
     "text": [
      "100%|██████████| 2000/2000 [00:00<00:00, 2777.83it/s]\n"
     ]
    },
    {
     "name": "stdout",
     "output_type": "stream",
     "text": [
      "the upper bin size is:\n",
      "47.0\n",
      "the lower bin size\n",
      "16.0\n",
      "[0, 0.27458346872299494, 0.4885394104412695, 0.6175599651280482, 0.7366609481792843, 0.8466050125045986, 0.9480961754714795, 1, 1, 1, 1, 1, 1] [47.0, 41.0, 35.0, 31.0, 27.0, 23.0, 19.0, 16.0, 16.0, 16.0, 16.0, 16.0, 16.0] 1.15\n"
     ]
    },
    {
     "name": "stderr",
     "output_type": "stream",
     "text": [
      "100%|██████████| 2000/2000 [00:00<00:00, 2399.46it/s]\n"
     ]
    },
    {
     "name": "stdout",
     "output_type": "stream",
     "text": [
      "the upper bin size is:\n",
      "47.0\n",
      "the lower bin size\n",
      "16.0\n",
      "[0, 0, 0.27458346872299494, 0.4885394104412695, 0.6175599651280482, 0.7366609481792843, 0.8466050125045986, 0.9480961754714795, 1, 1, 1, 1, 1, 1] [47.0, 47.0, 41.0, 35.0, 31.0, 27.0, 23.0, 19.0, 16.0, 16.0, 16.0, 16.0, 16.0, 16.0] 1.15\n"
     ]
    },
    {
     "name": "stderr",
     "output_type": "stream",
     "text": [
      "100%|██████████| 2000/2000 [00:01<00:00, 1887.60it/s]\n"
     ]
    },
    {
     "name": "stdout",
     "output_type": "stream",
     "text": [
      "the upper bin size is:\n",
      "47.0\n",
      "the lower bin size\n",
      "16.0\n",
      "[0, 0, 0, 0.27458346872299494, 0.4885394104412695, 0.6175599651280482, 0.7366609481792843, 0.8466050125045986, 0.9480961754714795, 1, 1, 1, 1, 1, 1] [47.0, 47.0, 47.0, 41.0, 35.0, 31.0, 27.0, 23.0, 19.0, 16.0, 16.0, 16.0, 16.0, 16.0, 16.0] 1.15\n"
     ]
    },
    {
     "name": "stderr",
     "output_type": "stream",
     "text": [
      "100%|██████████| 2000/2000 [00:01<00:00, 1405.42it/s]\n"
     ]
    },
    {
     "name": "stdout",
     "output_type": "stream",
     "text": [
      "the upper bin size is:\n",
      "47.0\n",
      "the lower bin size\n",
      "16.0\n",
      "[0, 0, 0, 0, 0.27458346872299494, 0.4885394104412695, 0.6175599651280482, 0.7366609481792843, 0.8466050125045986, 0.9480961754714795, 1, 1, 1, 1, 1, 1] [47.0, 47.0, 47.0, 47.0, 41.0, 35.0, 31.0, 27.0, 23.0, 19.0, 16.0, 16.0, 16.0, 16.0, 16.0, 16.0] 1.15\n"
     ]
    },
    {
     "name": "stderr",
     "output_type": "stream",
     "text": [
      "100%|██████████| 2000/2000 [00:02<00:00, 957.50it/s] \n"
     ]
    },
    {
     "name": "stdout",
     "output_type": "stream",
     "text": [
      "the upper bin size is:\n",
      "47.0\n",
      "the lower bin size\n",
      "16.0\n",
      "[0, 0, 0, 0, 0, 0.27458346872299494, 0.4885394104412695, 0.6175599651280482, 0.7366609481792843, 0.8466050125045986, 0.9480961754714795, 1, 1, 1, 1, 1, 1] [47.0, 47.0, 47.0, 47.0, 47.0, 41.0, 35.0, 31.0, 27.0, 23.0, 19.0, 16.0, 16.0, 16.0, 16.0, 16.0, 16.0] 1.15\n"
     ]
    },
    {
     "name": "stderr",
     "output_type": "stream",
     "text": [
      "100%|██████████| 2000/2000 [00:03<00:00, 627.70it/s]\n"
     ]
    },
    {
     "name": "stdout",
     "output_type": "stream",
     "text": [
      "the upper bin size is:\n",
      "47.0\n",
      "the lower bin size\n",
      "16.0\n",
      "[0, 0, 0, 0, 0, 0, 0.27458346872299494, 0.4885394104412695, 0.6175599651280482, 0.7366609481792843, 0.8466050125045986, 0.9480961754714795, 1, 1, 1, 1, 1, 1] [47.0, 47.0, 47.0, 47.0, 47.0, 47.0, 41.0, 35.0, 31.0, 27.0, 23.0, 19.0, 16.0, 16.0, 16.0, 16.0, 16.0, 16.0] 1.15\n"
     ]
    },
    {
     "name": "stderr",
     "output_type": "stream",
     "text": [
      "100%|██████████| 2000/2000 [00:05<00:00, 373.88it/s]\n"
     ]
    },
    {
     "name": "stdout",
     "output_type": "stream",
     "text": [
      "the upper bin size is:\n",
      "47.0\n",
      "the lower bin size\n",
      "16.0\n",
      "[0, 0, 0, 0, 0, 0, 0, 0.27458346872299494, 0.4885394104412695, 0.6175599651280482, 0.7366609481792843, 0.8466050125045986, 0.9480961754714795, 1, 1, 1, 1, 1, 1] [47.0, 47.0, 47.0, 47.0, 47.0, 47.0, 47.0, 41.0, 35.0, 31.0, 27.0, 23.0, 19.0, 16.0, 16.0, 16.0, 16.0, 16.0, 16.0] 1.15\n"
     ]
    },
    {
     "name": "stderr",
     "output_type": "stream",
     "text": [
      "100%|██████████| 2000/2000 [00:11<00:00, 180.80it/s]\n"
     ]
    },
    {
     "name": "stdout",
     "output_type": "stream",
     "text": [
      "3.506\n"
     ]
    },
    {
     "data": {
      "image/png": "[encoded data removed]",
      "text/plain": [
       "<Figure size 640x480 with 1 Axes>"
      ]
     },
     "metadata": {},
     "output_type": "display_data"
    },
    {
     "data": {
      "image/png": "[encoded data removed]",
      "text/plain": [
       "<Figure size 640x480 with 1 Axes>"
      ]
     },
     "metadata": {},
     "output_type": "display_data"
    }
   ],
   "source": [
    "num_mean = []\n",
    "num_std = []\n",
    "space = range(1,20)\n",
    "print\n",
    "alpha=1.15\n",
    "for num in space:\n",
    "    cnt_env = cenv.AcntEnv(protocols, num,threshold, decay_rate)\n",
    "    policy, policy_bin = policy_maker_ct(cnt_env, alpha)\n",
    "    print(policy,policy_bin,alpha)\n",
    "    depth_heuristic = batch_heuristic(2000,cnt_env,policy)\n",
    "    num_mean.append(np.mean(depth_heuristic))\n",
    "    num_std.append(np.std(depth_heuristic))\n",
    "\n",
    "print(np.amin(num_mean))\n",
    "plt.plot(space, num_mean)\n",
    "plt.show()\n",
    "plt.plot(space, num_std)\n",
    "plt.show()"
   ]
  },
  {
   "cell_type": "code",
   "execution_count": 93,
   "metadata": {},
   "outputs": [
    {
     "name": "stdout",
     "output_type": "stream",
     "text": [
      "the upper bin size is:\n",
      "53.0\n",
      "the lower bin size\n",
      "49.0\n",
      "[1, 1, 1, 1, 1, 1, 1, 1, 1, 1, 1, 1, 1, 1, 1] [49.0, 49.0, 49.0, 49.0, 49.0, 49.0, 49.0, 49.0, 49.0, 49.0, 49.0, 49.0, 49.0, 49.0, 49.0] 1.15\n"
     ]
    },
    {
     "name": "stderr",
     "output_type": "stream",
     "text": [
      "100%|██████████| 2000/2000 [00:00<00:00, 5134.61it/s]\n"
     ]
    },
    {
     "name": "stdout",
     "output_type": "stream",
     "text": [
      "the upper bin size is:\n",
      "53.0\n",
      "the lower bin size\n",
      "48.0\n",
      "[1, 1, 1, 1, 1, 1, 1, 1, 1, 1, 1, 1, 1, 1, 1] [48.0, 48.0, 48.0, 48.0, 48.0, 48.0, 48.0, 48.0, 48.0, 48.0, 48.0, 48.0, 48.0, 48.0, 48.0] 1.15\n"
     ]
    },
    {
     "name": "stderr",
     "output_type": "stream",
     "text": [
      "100%|██████████| 2000/2000 [00:00<00:00, 5063.30it/s]\n"
     ]
    },
    {
     "name": "stdout",
     "output_type": "stream",
     "text": [
      "the upper bin size is:\n",
      "53.0\n",
      "the lower bin size\n",
      "47.0\n",
      "[1, 1, 1, 1, 1, 1, 1, 1, 1, 1, 1, 1, 1, 1, 1] [47.0, 47.0, 47.0, 47.0, 47.0, 47.0, 47.0, 47.0, 47.0, 47.0, 47.0, 47.0, 47.0, 47.0, 47.0] 1.15\n"
     ]
    },
    {
     "name": "stderr",
     "output_type": "stream",
     "text": [
      "100%|██████████| 2000/2000 [00:00<00:00, 4993.35it/s]\n"
     ]
    },
    {
     "name": "stdout",
     "output_type": "stream",
     "text": [
      "the upper bin size is:\n",
      "53.0\n",
      "the lower bin size\n",
      "46.0\n",
      "[1, 1, 1, 1, 1, 1, 1, 1, 1, 1, 1, 1, 1, 1, 1] [46.0, 46.0, 46.0, 46.0, 46.0, 46.0, 46.0, 46.0, 46.0, 46.0, 46.0, 46.0, 46.0, 46.0, 46.0] 1.15\n"
     ]
    },
    {
     "name": "stderr",
     "output_type": "stream",
     "text": [
      "100%|██████████| 2000/2000 [00:00<00:00, 4789.73it/s]\n"
     ]
    },
    {
     "name": "stdout",
     "output_type": "stream",
     "text": [
      "the upper bin size is:\n",
      "52.0\n",
      "the lower bin size\n",
      "45.0\n",
      "[0.995671860589193, 1, 1, 1, 1, 1, 1, 1, 1, 1, 1, 1, 1, 1, 1] [46.0, 45.0, 45.0, 45.0, 45.0, 45.0, 45.0, 45.0, 45.0, 45.0, 45.0, 45.0, 45.0, 45.0, 45.0] 1.15\n"
     ]
    },
    {
     "name": "stderr",
     "output_type": "stream",
     "text": [
      "100%|██████████| 2000/2000 [00:00<00:00, 4931.86it/s]\n"
     ]
    },
    {
     "name": "stdout",
     "output_type": "stream",
     "text": [
      "the upper bin size is:\n",
      "52.0\n",
      "the lower bin size\n",
      "45.0\n",
      "[0.8887404082046221, 1, 1, 1, 1, 1, 1, 1, 1, 1, 1, 1, 1, 1, 1] [46.0, 45.0, 45.0, 45.0, 45.0, 45.0, 45.0, 45.0, 45.0, 45.0, 45.0, 45.0, 45.0, 45.0, 45.0] 1.15\n"
     ]
    },
    {
     "name": "stderr",
     "output_type": "stream",
     "text": [
      "100%|██████████| 2000/2000 [00:00<00:00, 5101.59it/s]\n"
     ]
    },
    {
     "name": "stdout",
     "output_type": "stream",
     "text": [
      "the upper bin size is:\n",
      "52.0\n",
      "the lower bin size\n",
      "44.0\n",
      "[0.7977349168134977, 1, 1, 1, 1, 1, 1, 1, 1, 1, 1, 1, 1, 1, 1] [46.0, 44.0, 44.0, 44.0, 44.0, 44.0, 44.0, 44.0, 44.0, 44.0, 44.0, 44.0, 44.0, 44.0, 44.0] 1.15\n"
     ]
    },
    {
     "name": "stderr",
     "output_type": "stream",
     "text": [
      "100%|██████████| 2000/2000 [00:00<00:00, 4683.92it/s]\n"
     ]
    },
    {
     "name": "stdout",
     "output_type": "stream",
     "text": [
      "the upper bin size is:\n",
      "52.0\n",
      "the lower bin size\n",
      "43.0\n",
      "[0.7193440479914396, 1, 1, 1, 1, 1, 1, 1, 1, 1, 1, 1, 1, 1, 1] [46.0, 43.0, 43.0, 43.0, 43.0, 43.0, 43.0, 43.0, 43.0, 43.0, 43.0, 43.0, 43.0, 43.0, 43.0] 1.15\n"
     ]
    },
    {
     "name": "stderr",
     "output_type": "stream",
     "text": [
      "100%|██████████| 2000/2000 [00:00<00:00, 4987.54it/s]\n"
     ]
    },
    {
     "name": "stdout",
     "output_type": "stream",
     "text": [
      "the upper bin size is:\n",
      "52.0\n",
      "the lower bin size\n",
      "42.0\n",
      "[0.6511149584611304, 1, 1, 1, 1, 1, 1, 1, 1, 1, 1, 1, 1, 1, 1] [46.0, 42.0, 42.0, 42.0, 42.0, 42.0, 42.0, 42.0, 42.0, 42.0, 42.0, 42.0, 42.0, 42.0, 42.0] 1.15\n"
     ]
    },
    {
     "name": "stderr",
     "output_type": "stream",
     "text": [
      "100%|██████████| 2000/2000 [00:00<00:00, 4866.21it/s]\n"
     ]
    },
    {
     "name": "stdout",
     "output_type": "stream",
     "text": [
      "the upper bin size is:\n",
      "51.0\n",
      "the lower bin size\n",
      "41.0\n",
      "[0.5911920189605977, 0.9546709133109867, 1, 1, 1, 1, 1, 1, 1, 1, 1, 1, 1, 1, 1] [46.0, 42.0, 41.0, 41.0, 41.0, 41.0, 41.0, 41.0, 41.0, 41.0, 41.0, 41.0, 41.0, 41.0, 41.0] 1.15\n"
     ]
    },
    {
     "name": "stderr",
     "output_type": "stream",
     "text": [
      "100%|██████████| 2000/2000 [00:00<00:00, 4799.32it/s]\n"
     ]
    },
    {
     "name": "stdout",
     "output_type": "stream",
     "text": [
      "the upper bin size is:\n",
      "51.0\n",
      "the lower bin size\n",
      "40.0\n",
      "[0.5381454823535691, 0.8807690303068045, 1, 1, 1, 1, 1, 1, 1, 1, 1, 1, 1, 1, 1] [46.0, 42.0, 40.0, 40.0, 40.0, 40.0, 40.0, 40.0, 40.0, 40.0, 40.0, 40.0, 40.0, 40.0, 40.0] 1.15\n"
     ]
    },
    {
     "name": "stderr",
     "output_type": "stream",
     "text": [
      "100%|██████████| 2000/2000 [00:00<00:00, 4305.28it/s]\n"
     ]
    },
    {
     "name": "stdout",
     "output_type": "stream",
     "text": [
      "the upper bin size is:\n",
      "51.0\n",
      "the lower bin size\n",
      "39.0\n",
      "[0.49085593421552026, 0.8148875066984251, 1, 1, 1, 1, 1, 1, 1, 1, 1, 1, 1, 1, 1] [46.0, 42.0, 39.0, 39.0, 39.0, 39.0, 39.0, 39.0, 39.0, 39.0, 39.0, 39.0, 39.0, 39.0, 39.0] 1.15\n"
     ]
    },
    {
     "name": "stderr",
     "output_type": "stream",
     "text": [
      "100%|██████████| 2000/2000 [00:00<00:00, 4672.99it/s]\n"
     ]
    },
    {
     "name": "stdout",
     "output_type": "stream",
     "text": [
      "the upper bin size is:\n",
      "51.0\n",
      "the lower bin size\n",
      "38.0\n",
      "[0.3676766619754251, 0.681239090909886, 0.9706936946719836, 1, 1, 1, 1, 1, 1, 1, 1, 1, 1, 1, 1] [47.0, 43.0, 39.0, 38.0, 38.0, 38.0, 38.0, 38.0, 38.0, 38.0, 38.0, 38.0, 38.0, 38.0, 38.0] 1.15\n"
     ]
    },
    {
     "name": "stderr",
     "output_type": "stream",
     "text": [
      "100%|██████████| 2000/2000 [00:00<00:00, 4733.59it/s]\n"
     ]
    },
    {
     "name": "stdout",
     "output_type": "stream",
     "text": [
      "the upper bin size is:\n",
      "51.0\n",
      "the lower bin size\n",
      "37.0\n",
      "[0.3333614873798912, 0.6315747065063716, 0.9068602037906046, 1, 1, 1, 1, 1, 1, 1, 1, 1, 1, 1, 1] [47.0, 43.0, 39.0, 37.0, 37.0, 37.0, 37.0, 37.0, 37.0, 37.0, 37.0, 37.0, 37.0, 37.0, 37.0] 1.15\n"
     ]
    },
    {
     "name": "stderr",
     "output_type": "stream",
     "text": [
      "100%|██████████| 2000/2000 [00:00<00:00, 4576.43it/s]\n"
     ]
    },
    {
     "name": "stdout",
     "output_type": "stream",
     "text": [
      "the upper bin size is:\n",
      "50.0\n",
      "the lower bin size\n",
      "36.0\n",
      "[0.22754953838882977, 0.5865456646471855, 0.8489845053914875, 1, 1, 1, 1, 1, 1, 1, 1, 1, 1, 1, 1] [48.0, 43.0, 39.0, 36.0, 36.0, 36.0, 36.0, 36.0, 36.0, 36.0, 36.0, 36.0, 36.0, 36.0, 36.0] 1.15\n"
     ]
    },
    {
     "name": "stderr",
     "output_type": "stream",
     "text": [
      "100%|██████████| 2000/2000 [00:00<00:00, 4395.49it/s]\n"
     ]
    },
    {
     "name": "stdout",
     "output_type": "stream",
     "text": [
      "the upper bin size is:\n",
      "50.0\n",
      "the lower bin size\n",
      "35.0\n",
      "[0.20254202181523018, 0.5455319513614296, 0.796269697295476, 0.9715889874341251, 1, 1, 1, 1, 1, 1, 1, 1, 1, 1, 1] [48.0, 43.0, 39.0, 36.0, 35.0, 35.0, 35.0, 35.0, 35.0, 35.0, 35.0, 35.0, 35.0, 35.0, 35.0] 1.15\n"
     ]
    },
    {
     "name": "stderr",
     "output_type": "stream",
     "text": [
      "100%|██████████| 2000/2000 [00:00<00:00, 3999.61it/s]\n"
     ]
    },
    {
     "name": "stdout",
     "output_type": "stream",
     "text": [
      "the upper bin size is:\n",
      "50.0\n",
      "the lower bin size\n",
      "34.0\n",
      "[0.10996634704446977, 0.5080194087220192, 0.748054933793027, 0.9158910834989288, 1, 1, 1, 1, 1, 1, 1, 1, 1, 1, 1] [49.0, 43.0, 39.0, 36.0, 34.0, 34.0, 34.0, 34.0, 34.0, 34.0, 34.0, 34.0, 34.0, 34.0, 34.0] 1.15\n"
     ]
    },
    {
     "name": "stderr",
     "output_type": "stream",
     "text": [
      "100%|██████████| 2000/2000 [00:00<00:00, 4210.32it/s]\n"
     ]
    },
    {
     "name": "stdout",
     "output_type": "stream",
     "text": [
      "the upper bin size is:\n",
      "50.0\n",
      "the lower bin size\n",
      "33.0\n",
      "[0.023619515597700973, 0.41309004060197557, 0.647950090604085, 0.8647532418742159, 1, 1, 1, 1, 1, 1, 1, 1, 1, 1, 1] [50.0, 44.0, 40.0, 36.0, 33.0, 33.0, 33.0, 33.0, 33.0, 33.0, 33.0, 33.0, 33.0, 33.0, 33.0] 1.15\n"
     ]
    },
    {
     "name": "stderr",
     "output_type": "stream",
     "text": [
      "100%|██████████| 2000/2000 [00:00<00:00, 3992.01it/s]\n"
     ]
    },
    {
     "name": "stdout",
     "output_type": "stream",
     "text": [
      "the upper bin size is:\n",
      "50.0\n",
      "the lower bin size\n",
      "32.0\n",
      "[0, 0.38373631241350875, 0.6093602930335129, 0.8176374776806611, 0.9632677577503359, 1, 1, 1, 1, 1, 1, 1, 1, 1, 1] [50.0, 44.0, 40.0, 36.0, 33.0, 32.0, 32.0, 32.0, 32.0, 32.0, 32.0, 32.0, 32.0, 32.0, 32.0] 1.15\n"
     ]
    },
    {
     "name": "stderr",
     "output_type": "stream",
     "text": [
      "100%|██████████| 2000/2000 [00:00<00:00, 3800.59it/s]\n"
     ]
    },
    {
     "name": "stdout",
     "output_type": "stream",
     "text": [
      "the upper bin size is:\n",
      "49.0\n",
      "the lower bin size\n",
      "31.0\n",
      "[0, 0.2995639238702389, 0.5736908044682807, 0.7740872307774286, 0.914207175925548, 1, 1, 1, 1, 1, 1, 1, 1, 1, 1] [49.0, 45.0, 40.0, 36.0, 33.0, 31.0, 31.0, 31.0, 31.0, 31.0, 31.0, 31.0, 31.0, 31.0, 31.0] 1.15\n"
     ]
    },
    {
     "name": "stderr",
     "output_type": "stream",
     "text": [
      "100%|██████████| 2000/2000 [00:00<00:00, 3616.46it/s]\n"
     ]
    },
    {
     "name": "stdout",
     "output_type": "stream",
     "text": [
      "the upper bin size is:\n",
      "49.0\n",
      "the lower bin size\n",
      "29.0\n",
      "[0, 0.27648954470135856, 0.5406222161109303, 0.7337125227108907, 0.8687239281921518, 1, 1, 1, 1, 1, 1, 1, 1, 1, 1] [49.0, 45.0, 40.0, 36.0, 33.0, 29.0, 29.0, 29.0, 29.0, 29.0, 29.0, 29.0, 29.0, 29.0, 29.0] 1.15\n"
     ]
    },
    {
     "name": "stderr",
     "output_type": "stream",
     "text": [
      "100%|██████████| 2000/2000 [00:00<00:00, 3212.63it/s]\n"
     ]
    },
    {
     "name": "stdout",
     "output_type": "stream",
     "text": [
      "the upper bin size is:\n",
      "49.0\n",
      "the lower bin size\n",
      "28.0\n",
      "[0, 0.200940111459642, 0.46092982513222097, 0.6961782463676264, 0.8264405069324611, 0.9884003685300705, 1, 1, 1, 1, 1, 1, 1, 1, 1] [49.0, 46.0, 41.0, 36.0, 33.0, 29.0, 28.0, 28.0, 28.0, 28.0, 28.0, 28.0, 28.0, 28.0, 28.0] 1.15\n"
     ]
    },
    {
     "name": "stderr",
     "output_type": "stream",
     "text": [
      "100%|██████████| 2000/2000 [00:00<00:00, 3281.32it/s]\n"
     ]
    },
    {
     "name": "stdout",
     "output_type": "stream",
     "text": [
      "the upper bin size is:\n",
      "49.0\n",
      "the lower bin size\n",
      "27.0\n",
      "[0, 0.12946938201613817, 0.4339403003299935, 0.6175435527162834, 0.7870307162438176, 0.94348708739879, 1, 1, 1, 1, 1, 1, 1, 1, 1] [49.0, 47.0, 41.0, 37.0, 33.0, 29.0, 27.0, 27.0, 27.0, 27.0, 27.0, 27.0, 27.0, 27.0, 27.0] 1.15\n"
     ]
    },
    {
     "name": "stderr",
     "output_type": "stream",
     "text": [
      "100%|██████████| 2000/2000 [00:00<00:00, 2883.95it/s]\n"
     ]
    },
    {
     "name": "stdout",
     "output_type": "stream",
     "text": [
      "the upper bin size is:\n",
      "49.0\n",
      "the lower bin size\n",
      "26.0\n",
      "[0, 0.061654604499175654, 0.36206802048871733, 0.5862940775878921, 0.7502112404361179, 0.9015258529146357, 1, 1, 1, 1, 1, 1, 1, 1, 1] [49.0, 48.0, 42.0, 37.0, 33.0, 29.0, 26.0, 26.0, 26.0, 26.0, 26.0, 26.0, 26.0, 26.0, 26.0] 1.15\n"
     ]
    },
    {
     "name": "stderr",
     "output_type": "stream",
     "text": [
      "100%|██████████| 2000/2000 [00:00<00:00, 2585.55it/s]\n"
     ]
    },
    {
     "name": "stdout",
     "output_type": "stream",
     "text": [
      "the upper bin size is:\n",
      "48.0\n",
      "the lower bin size\n",
      "24.0\n",
      "[0, 0, 0.3399416137761975, 0.5570332054222166, 0.7157348221798169, 0.8622348788067454, 0.9646697389329144, 1, 1, 1, 1, 1, 1, 1, 1] [48.0, 48.0, 42.0, 37.0, 33.0, 29.0, 26.0, 24.0, 24.0, 24.0, 24.0, 24.0, 24.0, 24.0, 24.0] 1.15\n"
     ]
    },
    {
     "name": "stderr",
     "output_type": "stream",
     "text": [
      "100%|██████████| 2000/2000 [00:00<00:00, 2035.51it/s]\n"
     ]
    },
    {
     "name": "stdout",
     "output_type": "stream",
     "text": [
      "the upper bin size is:\n",
      "48.0\n",
      "the lower bin size\n",
      "23.0\n",
      "[0, 0, 0.2745162248035733, 0.48916366619246404, 0.6833847028468126, 0.825367136582162, 0.9246432124753654, 1, 1, 1, 1, 1, 1, 1, 1] [48.0, 48.0, 43.0, 38.0, 33.0, 29.0, 26.0, 23.0, 23.0, 23.0, 23.0, 23.0, 23.0, 23.0, 23.0] 1.15\n"
     ]
    },
    {
     "name": "stderr",
     "output_type": "stream",
     "text": [
      "100%|██████████| 2000/2000 [00:01<00:00, 1878.49it/s]\n"
     ]
    },
    {
     "name": "stdout",
     "output_type": "stream",
     "text": [
      "the upper bin size is:\n",
      "48.0\n",
      "the lower bin size\n",
      "22.0\n",
      "[0, 0, 0.21212990146554622, 0.4645590550955382, 0.6167798775643999, 0.7572974070458246, 0.8870114354639937, 0.9777092731532574, 1, 1, 1, 1, 1, 1, 1] [48.0, 48.0, 44.0, 38.0, 34.0, 30.0, 26.0, 23.0, 22.0, 22.0, 22.0, 22.0, 22.0, 22.0, 22.0] 1.15\n"
     ]
    },
    {
     "name": "stderr",
     "output_type": "stream",
     "text": [
      "100%|██████████| 2000/2000 [00:01<00:00, 1649.38it/s]\n"
     ]
    },
    {
     "name": "stdout",
     "output_type": "stream",
     "text": [
      "the upper bin size is:\n",
      "48.0\n",
      "the lower bin size\n",
      "20.0\n",
      "[0, 0, 0.1525006607855913, 0.4025491389020322, 0.589183228285213, 0.725619335748505, 0.8515657367852336, 0.9396291974461785, 1, 1, 1, 1, 1, 1, 1] [48.0, 48.0, 45.0, 39.0, 34.0, 30.0, 26.0, 23.0, 20.0, 20.0, 20.0, 20.0, 20.0, 20.0, 20.0] 1.15\n"
     ]
    },
    {
     "name": "stderr",
     "output_type": "stream",
     "text": [
      "100%|██████████| 2000/2000 [00:01<00:00, 1608.79it/s]\n"
     ]
    },
    {
     "name": "stdout",
     "output_type": "stream",
     "text": [
      "the upper bin size is:\n",
      "48.0\n",
      "the lower bin size\n",
      "19.0\n",
      "[0, 0, 0.13878760449997654, 0.3817782626695823, 0.5631444543685603, 0.6957295426695819, 0.8181210049673705, 0.9036988034322403, 1, 1, 1, 1, 1, 1, 1] [48.0, 48.0, 45.0, 39.0, 34.0, 30.0, 26.0, 23.0, 19.0, 19.0, 19.0, 19.0, 19.0, 19.0, 19.0] 1.15\n"
     ]
    },
    {
     "name": "stderr",
     "output_type": "stream",
     "text": [
      "100%|██████████| 2000/2000 [00:01<00:00, 1459.09it/s]\n"
     ]
    },
    {
     "name": "stdout",
     "output_type": "stream",
     "text": [
      "the upper bin size is:\n",
      "47.0\n",
      "the lower bin size\n",
      "17.0\n",
      "[0, 0, 0.040538664164671126, 0.3247037862482299, 0.5046545622799871, 0.6674807578381294, 0.786512454504214, 0.8697410585014207, 0.9732222442715738, 1, 1, 1, 1, 1, 1] [47.0, 47.0, 47.0, 40.0, 35.0, 30.0, 26.0, 23.0, 19.0, 17.0, 17.0, 17.0, 17.0, 17.0, 17.0] 1.15\n"
     ]
    },
    {
     "name": "stderr",
     "output_type": "stream",
     "text": [
      "100%|██████████| 2000/2000 [00:01<00:00, 1398.81it/s]\n"
     ]
    },
    {
     "name": "stdout",
     "output_type": "stream",
     "text": [
      "the upper bin size is:\n",
      "47.0\n",
      "the lower bin size\n",
      "16.0\n",
      "[0, 0, 0, 0.2699428824477558, 0.48226557270253206, 0.6103012376588774, 0.7284930529005621, 0.8375978495592709, 0.9383142708241146, 1, 1, 1, 1, 1, 1] [47.0, 47.0, 47.0, 41.0, 35.0, 31.0, 27.0, 23.0, 19.0, 16.0, 16.0, 16.0, 16.0, 16.0, 16.0] 1.15\n"
     ]
    },
    {
     "name": "stderr",
     "output_type": "stream",
     "text": [
      "100%|██████████| 2000/2000 [00:01<00:00, 1344.88it/s]\n"
     ]
    },
    {
     "name": "stdout",
     "output_type": "stream",
     "text": [
      "the upper bin size is:\n",
      "47.0\n",
      "the lower bin size\n",
      "14.0\n",
      "[0, 0, 0, 0.21730045240680346, 0.4282756048097557, 0.5857456912018307, 0.7008618829985644, 0.8071275213799092, 0.905223069228939, 0.9738128292213478, 1, 1, 1, 1, 1] [47.0, 47.0, 47.0, 42.0, 36.0, 31.0, 27.0, 23.0, 19.0, 16.0, 14.0, 14.0, 14.0, 14.0, 14.0] 1.15\n"
     ]
    },
    {
     "name": "stderr",
     "output_type": "stream",
     "text": [
      "100%|██████████| 2000/2000 [00:01<00:00, 1351.76it/s]\n"
     ]
    },
    {
     "name": "stdout",
     "output_type": "stream",
     "text": [
      "the upper bin size is:\n",
      "47.0\n",
      "the lower bin size\n",
      "13.0\n",
      "[0, 0, 0, 0.20333510276846684, 0.4089594360887356, 0.5624357159418812, 0.6746322941785529, 0.7782027895574721, 0.8738104068451137, 0.9406605714753961, 1, 1, 1, 1, 1] [47.0, 47.0, 47.0, 42.0, 36.0, 31.0, 27.0, 23.0, 19.0, 16.0, 13.0, 13.0, 13.0, 13.0, 13.0] 1.15\n"
     ]
    },
    {
     "name": "stderr",
     "output_type": "stream",
     "text": [
      "100%|██████████| 2000/2000 [00:01<00:00, 1273.44it/s]\n"
     ]
    },
    {
     "name": "stdout",
     "output_type": "stream",
     "text": [
      "the upper bin size is:\n",
      "47.0\n",
      "the lower bin size\n",
      "11.0\n",
      "[0, 0, 0, 0.11768573713641191, 0.35882439997486826, 0.5115281842777167, 0.6231600409982734, 0.7507089631962153, 0.8213356260696986, 0.9091483547486782, 0.9705482257564758, 1, 1, 1, 1] [47.0, 47.0, 47.0, 44.0, 37.0, 32.0, 28.0, 23.0, 20.0, 16.0, 13.0, 11.0, 11.0, 11.0, 11.0] 1.15\n"
     ]
    },
    {
     "name": "stderr",
     "output_type": "stream",
     "text": [
      "100%|██████████| 2000/2000 [00:01<00:00, 1247.11it/s]\n"
     ]
    },
    {
     "name": "stdout",
     "output_type": "stream",
     "text": [
      "the upper bin size is:\n",
      "46.0\n",
      "the lower bin size\n",
      "9.0\n",
      "[0, 0, 0, 0.07041146867584194, 0.3104832835368597, 0.46251147429733264, 0.6000722698937174, 0.7006340673271486, 0.7934643063599705, 0.8791574174501472, 0.9390752226060325, 1, 1, 1, 1] [46.0, 46.0, 46.0, 45.0, 38.0, 33.0, 28.0, 24.0, 20.0, 16.0, 13.0, 9.0, 9.0, 9.0, 9.0] 1.15\n"
     ]
    },
    {
     "name": "stderr",
     "output_type": "stream",
     "text": [
      "100%|██████████| 2000/2000 [00:02<00:00, 964.21it/s] \n"
     ]
    },
    {
     "name": "stdout",
     "output_type": "stream",
     "text": [
      "the upper bin size is:\n",
      "46.0\n",
      "the lower bin size\n",
      "7.0\n",
      "[0, 0, 0, 0.02464786368283535, 0.26379688824485886, 0.44375418926900034, 0.5780728112318003, 0.6762644652913795, 0.7669067862325186, 0.850580194367708, 0.9090857953616701, 0.9818279618078825, 1, 1, 1] [46.0, 46.0, 46.0, 46.0, 39.0, 33.0, 28.0, 24.0, 20.0, 16.0, 13.0, 9.0, 7.0, 7.0, 7.0] 1.15\n"
     ]
    },
    {
     "name": "stderr",
     "output_type": "stream",
     "text": [
      "100%|██████████| 2000/2000 [00:02<00:00, 938.42it/s]\n"
     ]
    },
    {
     "name": "stdout",
     "output_type": "stream",
     "text": [
      "the upper bin size is:\n",
      "46.0\n",
      "the lower bin size\n",
      "6.0\n",
      "[0, 0, 0, 0, 0.2186385926314648, 0.39800380926558, 0.5318805043996186, 0.6530171475598895, 0.7415723097951471, 0.823319027611434, 0.8804774601614562, 0.9515446425118677, 1, 1, 1] [46.0, 46.0, 46.0, 46.0, 40.0, 34.0, 29.0, 24.0, 20.0, 16.0, 13.0, 9.0, 6.0, 6.0, 6.0] 1.15\n"
     ]
    },
    {
     "name": "stderr",
     "output_type": "stream",
     "text": [
      "100%|██████████| 2000/2000 [00:02<00:00, 794.57it/s]\n"
     ]
    },
    {
     "name": "stdout",
     "output_type": "stream",
     "text": [
      "the upper bin size is:\n",
      "46.0\n",
      "the lower bin size\n",
      "4.0\n",
      "[0, 0, 0, 0, 0.1748929320513782, 0.35376285117276535, 0.48726986039246406, 0.6080719979045194, 0.6963826247029881, 0.7779036078603045, 0.8531569599863323, 0.9226245594542586, 0.971197263101185, 1, 1] [46.0, 46.0, 46.0, 46.0, 41.0, 35.0, 30.0, 25.0, 21.0, 17.0, 13.0, 9.0, 6.0, 4.0, 4.0] 1.15\n"
     ]
    },
    {
     "name": "stderr",
     "output_type": "stream",
     "text": [
      "100%|██████████| 2000/2000 [00:02<00:00, 678.17it/s]\n"
     ]
    },
    {
     "name": "stdout",
     "output_type": "stream",
     "text": [
      "the upper bin size is:\n",
      "46.0\n",
      "the lower bin size\n",
      "2.0\n",
      "[0, 0, 0, 0, 0.10057185439332633, 0.31092076842921684, 0.4692062680777452, 0.587349239040793, 0.673715921224201, 0.7534424173308847, 0.8270392491270943, 0.8784991689684376, 0.9424811807897332, 0.9872182858967672, 1] [46.0, 46.0, 46.0, 46.0, 43.0, 36.0, 30.0, 25.0, 21.0, 17.0, 13.0, 10.0, 6.0, 3.0, 2.0] 1.15\n"
     ]
    },
    {
     "name": "stderr",
     "output_type": "stream",
     "text": [
      "100%|██████████| 2000/2000 [00:03<00:00, 572.37it/s]\n"
     ]
    },
    {
     "name": "stdout",
     "output_type": "stream",
     "text": [
      "the upper bin size is:\n",
      "45.0\n",
      "the lower bin size\n",
      "0.0\n",
      "[0, 0, 0, 0, 0.05940019572186017, 0.2693763236704238, 0.42738130543577196, 0.5453149002007424, 0.6520256295875774, 0.730034939624271, 0.8020466088894853, 0.8523981612265535, 0.9150020989470828, 0.9587756356364269, 1.0] [45.0, 45.0, 45.0, 45.0, 44.0, 37.0, 31.0, 26.0, 21.0, 17.0, 13.0, 10.0, 6.0, 3.0, 0.0] 1.15\n"
     ]
    },
    {
     "name": "stderr",
     "output_type": "stream",
     "text": [
      "100%|██████████| 2000/2000 [00:04<00:00, 458.90it/s]"
     ]
    },
    {
     "name": "stdout",
     "output_type": "stream",
     "text": [
      "38.8195\n"
     ]
    },
    {
     "name": "stderr",
     "output_type": "stream",
     "text": [
      "\n"
     ]
    },
    {
     "data": {
      "image/png": "[encoded data removed]",
      "text/plain": [
       "<Figure size 640x480 with 1 Axes>"
      ]
     },
     "metadata": {},
     "output_type": "display_data"
    },
    {
     "data": {
      "image/png": "[encoded data removed]",
      "text/plain": [
       "<Figure size 640x480 with 1 Axes>"
      ]
     },
     "metadata": {},
     "output_type": "display_data"
    }
   ],
   "source": [
    "lam_mean = []\n",
    "lam_std = []\n",
    "space = np.linspace(0.2,1.25,40)\n",
    "alpha=1.15\n",
    "for lam in space:\n",
    "    protocols = [[0.1,0.4],[1-lam*0.1,1-lam*0.4]]\n",
    "    num_qubits = 15\n",
    "    threshold = 1/2\n",
    "    decay_rate = 0.02\n",
    "    cnt_env = cenv.AcntEnv(protocols, num_qubits,threshold, decay_rate)\n",
    "    policy, policy_bin = policy_maker_ct(cnt_env, alpha)\n",
    "    print(policy,policy_bin,alpha)\n",
    "    depth_heuristic = batch_heuristic(2000,cnt_env,policy)\n",
    "    lam_mean.append(np.mean(depth_heuristic))\n",
    "    lam_std.append(np.std(depth_heuristic))\n",
    "\n",
    "print(np.amin(lam_mean))\n",
    "plt.plot(space, lam_mean)\n",
    "plt.show()\n",
    "plt.plot(space, lam_std)\n",
    "plt.show()"
   ]
  },
  {
   "cell_type": "markdown",
   "metadata": {},
   "source": [
    "### interpolation(no knowledge)"
   ]
  },
  {
   "cell_type": "code",
   "execution_count": 6,
   "metadata": {},
   "outputs": [
    {
     "name": "stdout",
     "output_type": "stream",
     "text": [
      "the upper bin size is:\n",
      "3.0\n",
      "the lower bin size\n",
      "1.0\n"
     ]
    }
   ],
   "source": [
    "import intp_env as ienv\n",
    "\n",
    "protocols = [[0.4, 0.2],[0.6, 0.8]]\n",
    "num_qubits = 4\n",
    "threshold = 1/2\n",
    "decay_rate = 0.2\n",
    "\n",
    "int_env = ienv.IntpEnv(protocols, num_qubits ,threshold, decay_rate)"
   ]
  },
  {
   "cell_type": "code",
   "execution_count": 12,
   "metadata": {},
   "outputs": [
    {
     "data": {
      "text/plain": [
       "Text(0.5, 1.0, 'Interpolation between $(p_1=0.4,F_1=0.6)$, $(p_2=0.2,F_2=0.8)$')"
      ]
     },
     "execution_count": 12,
     "metadata": {},
     "output_type": "execute_result"
    },
    {
     "data": {
      "image/png": "[encoded data removed]",
      "text/plain": [
       "<Figure size 640x480 with 1 Axes>"
      ]
     },
     "metadata": {},
     "output_type": "display_data"
    }
   ],
   "source": [
    "#plot for trade-off function in interpolation\n",
    "\n",
    "p = np.linspace(0.2,0.4,100)\n",
    "p1, p2 = 0.4, 0.2\n",
    "f1, f2 = 0.6, 0.8\n",
    "f=[]\n",
    "linear_f=[]\n",
    "for i in p:\n",
    "    fidelity = (p1*p2*(f2-f1))/(i*(p1-p2))+(p1*f1-p2*f2)/(p1-p2)\n",
    "    f.append(fidelity)\n",
    "    linear_f.append(1-i)\n",
    "plt.plot(p,f)\n",
    "plt.plot(p,linear_f)\n",
    "plt.ylabel(r'$F_q$')\n",
    "plt.xlabel(r'$p_q$')\n",
    "plt.title(r'Interpolation between $(p_1=0.4,F_1=0.6)$, $(p_2=0.2,F_2=0.8)$')"
   ]
  },
  {
   "cell_type": "code",
   "execution_count": 110,
   "metadata": {},
   "outputs": [
    {
     "name": "stdout",
     "output_type": "stream",
     "text": [
      "[0, 0.09653562887368966, 0.8914489216651209, 1]\n"
     ]
    },
    {
     "name": "stderr",
     "output_type": "stream",
     "text": [
      "100%|██████████| 1/1 [00:00<00:00, 1000.07it/s]\n"
     ]
    },
    {
     "name": "stdout",
     "output_type": "stream",
     "text": [
      "can run one batch\n"
     ]
    },
    {
     "name": "stderr",
     "output_type": "stream",
     "text": [
      "100%|██████████| 2000/2000 [00:01<00:00, 1129.58it/s]"
     ]
    },
    {
     "name": "stdout",
     "output_type": "stream",
     "text": [
      "88.722\n",
      "86.67940768140954\n"
     ]
    },
    {
     "name": "stderr",
     "output_type": "stream",
     "text": [
      "\n"
     ]
    }
   ],
   "source": [
    "def policy_maker_it(env, p,alpha = 1):\n",
    "    ahead = 0\n",
    "    policy = []\n",
    "    policy_bin = []\n",
    "    p_min = np.min(p)\n",
    "    p_max = np.max(p)\n",
    "    for i in range(num_qubits):\n",
    "        n = alpha*ahead\n",
    "        tp_n = np.floor(n)\n",
    "        f_q = (env.threshold - 1/4)*np.exp(env.decay_rate*tp_n) + 1/4\n",
    "        q = p_min*(env.F_max-f_q)/(p_min*(env.F_max-f_q)+p_max*(f_q-env.F_min))\n",
    "        if q<0:\n",
    "            q = 0\n",
    "            tp_n = env.bin_size\n",
    "        elif q>1:\n",
    "            q = 1\n",
    "            tp_n = env.bin_size_min\n",
    "        #log\n",
    "        policy.append(q)\n",
    "        policy_bin.append(tp_n)\n",
    "        ahead = ahead + alpha/(env.p_max*policy[i]+env.p_min*(1-policy[i]))\n",
    "    return policy[::-1], policy_bin[::-1]\n",
    "\n",
    "policy = policy_maker_it(int_env, protocols[0])[0]\n",
    "print(policy)\n",
    "test = batch_heuristic(1,int_env,policy)\n",
    "print('can run one batch')\n",
    "depth_heuristic = batch_heuristic(2000,int_env,policy)\n",
    "print(np.mean(depth_heuristic))\n",
    "print(np.std(depth_heuristic))"
   ]
  },
  {
   "cell_type": "code",
   "execution_count": 111,
   "metadata": {},
   "outputs": [
    {
     "name": "stdout",
     "output_type": "stream",
     "text": [
      "[0.09653562887368966, 0.5824985156075003, 1, 1] [5.0, 3.0, 1.0, 1.0] 0.8\n"
     ]
    },
    {
     "name": "stderr",
     "output_type": "stream",
     "text": [
      "100%|██████████| 2000/2000 [00:02<00:00, 878.14it/s]\n"
     ]
    },
    {
     "name": "stdout",
     "output_type": "stream",
     "text": [
      "[0.09653562887368966, 0.5824985156075003, 1, 1] [5.0, 3.0, 1.0, 1.0] 0.8090909090909091\n"
     ]
    },
    {
     "name": "stderr",
     "output_type": "stream",
     "text": [
      "100%|██████████| 2000/2000 [00:02<00:00, 904.73it/s]\n"
     ]
    },
    {
     "name": "stdout",
     "output_type": "stream",
     "text": [
      "[0.09653562887368966, 0.5824985156075003, 1, 1] [5.0, 3.0, 1.0, 1.0] 0.8181818181818182\n"
     ]
    },
    {
     "name": "stderr",
     "output_type": "stream",
     "text": [
      "100%|██████████| 2000/2000 [00:02<00:00, 844.21it/s]\n"
     ]
    },
    {
     "name": "stdout",
     "output_type": "stream",
     "text": [
      "[0.09653562887368966, 0.5824985156075003, 1, 1] [5.0, 3.0, 1.0, 1.0] 0.8272727272727273\n"
     ]
    },
    {
     "name": "stderr",
     "output_type": "stream",
     "text": [
      "100%|██████████| 2000/2000 [00:02<00:00, 889.87it/s]\n"
     ]
    },
    {
     "name": "stdout",
     "output_type": "stream",
     "text": [
      "[0.09653562887368966, 0.5824985156075003, 1, 1] [5.0, 3.0, 1.0, 1.0] 0.8363636363636364\n"
     ]
    },
    {
     "name": "stderr",
     "output_type": "stream",
     "text": [
      "100%|██████████| 2000/2000 [00:02<00:00, 917.98it/s]\n"
     ]
    },
    {
     "name": "stdout",
     "output_type": "stream",
     "text": [
      "[0.09653562887368966, 0.5824985156075003, 1, 1] [5.0, 3.0, 1.0, 1.0] 0.8454545454545455\n"
     ]
    },
    {
     "name": "stderr",
     "output_type": "stream",
     "text": [
      "100%|██████████| 2000/2000 [00:02<00:00, 940.05it/s] \n"
     ]
    },
    {
     "name": "stdout",
     "output_type": "stream",
     "text": [
      "[0.09653562887368966, 0.5824985156075003, 1, 1] [5.0, 3.0, 1.0, 1.0] 0.8545454545454546\n"
     ]
    },
    {
     "name": "stderr",
     "output_type": "stream",
     "text": [
      "100%|██████████| 2000/2000 [00:02<00:00, 837.32it/s]\n"
     ]
    },
    {
     "name": "stdout",
     "output_type": "stream",
     "text": [
      "[0, 0.5824985156075003, 1, 1] [5.0, 3.0, 1.0, 1.0] 0.8636363636363636\n"
     ]
    },
    {
     "name": "stderr",
     "output_type": "stream",
     "text": [
      "100%|██████████| 2000/2000 [00:01<00:00, 1039.29it/s]\n"
     ]
    },
    {
     "name": "stdout",
     "output_type": "stream",
     "text": [
      "[0, 0.5824985156075003, 1, 1] [5.0, 3.0, 1.0, 1.0] 0.8727272727272728\n"
     ]
    },
    {
     "name": "stderr",
     "output_type": "stream",
     "text": [
      "100%|██████████| 2000/2000 [00:01<00:00, 1105.18it/s]\n"
     ]
    },
    {
     "name": "stdout",
     "output_type": "stream",
     "text": [
      "[0, 0.5824985156075003, 1, 1] [5.0, 3.0, 1.0, 1.0] 0.8818181818181818\n"
     ]
    },
    {
     "name": "stderr",
     "output_type": "stream",
     "text": [
      "100%|██████████| 2000/2000 [00:01<00:00, 1129.91it/s]\n"
     ]
    },
    {
     "name": "stdout",
     "output_type": "stream",
     "text": [
      "[0, 0.5824985156075003, 1, 1] [5.0, 3.0, 1.0, 1.0] 0.890909090909091\n"
     ]
    },
    {
     "name": "stderr",
     "output_type": "stream",
     "text": [
      "100%|██████████| 2000/2000 [00:01<00:00, 1148.99it/s]\n"
     ]
    },
    {
     "name": "stdout",
     "output_type": "stream",
     "text": [
      "[0, 0.31929334294469197, 0.8914489216651209, 1] [5.0, 4.0, 2.0, 1.0] 0.9\n"
     ]
    },
    {
     "name": "stderr",
     "output_type": "stream",
     "text": [
      "100%|██████████| 2000/2000 [00:01<00:00, 1343.89it/s]\n"
     ]
    },
    {
     "name": "stdout",
     "output_type": "stream",
     "text": [
      "[0, 0.31929334294469197, 0.8914489216651209, 1] [5.0, 4.0, 2.0, 1.0] 0.9090909090909092\n"
     ]
    },
    {
     "name": "stderr",
     "output_type": "stream",
     "text": [
      "100%|██████████| 2000/2000 [00:01<00:00, 1261.10it/s]\n"
     ]
    },
    {
     "name": "stdout",
     "output_type": "stream",
     "text": [
      "[0, 0.31929334294469197, 0.8914489216651209, 1] [5.0, 4.0, 2.0, 1.0] 0.9181818181818182\n"
     ]
    },
    {
     "name": "stderr",
     "output_type": "stream",
     "text": [
      "100%|██████████| 2000/2000 [00:01<00:00, 1274.35it/s]\n"
     ]
    },
    {
     "name": "stdout",
     "output_type": "stream",
     "text": [
      "[0, 0.31929334294469197, 0.8914489216651209, 1] [5.0, 4.0, 2.0, 1.0] 0.9272727272727272\n"
     ]
    },
    {
     "name": "stderr",
     "output_type": "stream",
     "text": [
      "100%|██████████| 2000/2000 [00:01<00:00, 1239.89it/s]\n"
     ]
    },
    {
     "name": "stdout",
     "output_type": "stream",
     "text": [
      "[0, 0.31929334294469197, 0.8914489216651209, 1] [5.0, 4.0, 2.0, 1.0] 0.9363636363636364\n"
     ]
    },
    {
     "name": "stderr",
     "output_type": "stream",
     "text": [
      "100%|██████████| 2000/2000 [00:01<00:00, 1178.60it/s]\n"
     ]
    },
    {
     "name": "stdout",
     "output_type": "stream",
     "text": [
      "[0, 0.31929334294469197, 0.8914489216651209, 1] [5.0, 4.0, 2.0, 1.0] 0.9454545454545455\n"
     ]
    },
    {
     "name": "stderr",
     "output_type": "stream",
     "text": [
      "100%|██████████| 2000/2000 [00:01<00:00, 1255.10it/s]\n"
     ]
    },
    {
     "name": "stdout",
     "output_type": "stream",
     "text": [
      "[0, 0.31929334294469197, 0.8914489216651209, 1] [5.0, 4.0, 2.0, 1.0] 0.9545454545454546\n"
     ]
    },
    {
     "name": "stderr",
     "output_type": "stream",
     "text": [
      "100%|██████████| 2000/2000 [00:01<00:00, 1293.96it/s]\n"
     ]
    },
    {
     "name": "stdout",
     "output_type": "stream",
     "text": [
      "[0, 0.31929334294469197, 0.8914489216651209, 1] [5.0, 4.0, 2.0, 1.0] 0.9636363636363636\n"
     ]
    },
    {
     "name": "stderr",
     "output_type": "stream",
     "text": [
      "100%|██████████| 2000/2000 [00:01<00:00, 1342.26it/s]\n"
     ]
    },
    {
     "name": "stdout",
     "output_type": "stream",
     "text": [
      "[0, 0.31929334294469197, 0.8914489216651209, 1] [5.0, 4.0, 2.0, 1.0] 0.9727272727272728\n"
     ]
    },
    {
     "name": "stderr",
     "output_type": "stream",
     "text": [
      "100%|██████████| 2000/2000 [00:01<00:00, 1291.19it/s]\n"
     ]
    },
    {
     "name": "stdout",
     "output_type": "stream",
     "text": [
      "[0, 0.31929334294469197, 0.8914489216651209, 1] [5.0, 4.0, 2.0, 1.0] 0.9818181818181819\n"
     ]
    },
    {
     "name": "stderr",
     "output_type": "stream",
     "text": [
      "100%|██████████| 2000/2000 [00:01<00:00, 1277.52it/s]\n"
     ]
    },
    {
     "name": "stdout",
     "output_type": "stream",
     "text": [
      "[0, 0.09653562887368966, 0.8914489216651209, 1] [5.0, 5.0, 2.0, 1.0] 0.990909090909091\n"
     ]
    },
    {
     "name": "stderr",
     "output_type": "stream",
     "text": [
      "100%|██████████| 2000/2000 [00:01<00:00, 1203.48it/s]\n"
     ]
    },
    {
     "name": "stdout",
     "output_type": "stream",
     "text": [
      "[0, 0.09653562887368966, 0.8914489216651209, 1] [5.0, 5.0, 2.0, 1.0] 1.0\n"
     ]
    },
    {
     "name": "stderr",
     "output_type": "stream",
     "text": [
      "100%|██████████| 2000/2000 [00:01<00:00, 1133.97it/s]\n"
     ]
    },
    {
     "name": "stdout",
     "output_type": "stream",
     "text": [
      "[0, 0.09653562887368966, 0.8914489216651209, 1] [5.0, 5.0, 2.0, 1.0] 1.009090909090909\n"
     ]
    },
    {
     "name": "stderr",
     "output_type": "stream",
     "text": [
      "100%|██████████| 2000/2000 [00:01<00:00, 1219.36it/s]\n"
     ]
    },
    {
     "name": "stdout",
     "output_type": "stream",
     "text": [
      "[0, 0.09653562887368966, 0.8914489216651209, 1] [5.0, 5.0, 2.0, 1.0] 1.0181818181818183\n"
     ]
    },
    {
     "name": "stderr",
     "output_type": "stream",
     "text": [
      "100%|██████████| 2000/2000 [00:01<00:00, 1113.25it/s]\n"
     ]
    },
    {
     "name": "stdout",
     "output_type": "stream",
     "text": [
      "[0, 0.09653562887368966, 0.8914489216651209, 1] [5.0, 5.0, 2.0, 1.0] 1.0272727272727273\n"
     ]
    },
    {
     "name": "stderr",
     "output_type": "stream",
     "text": [
      "100%|██████████| 2000/2000 [00:01<00:00, 1156.71it/s]\n"
     ]
    },
    {
     "name": "stdout",
     "output_type": "stream",
     "text": [
      "[0, 0.09653562887368966, 0.8914489216651209, 1] [5.0, 5.0, 2.0, 1.0] 1.0363636363636364\n"
     ]
    },
    {
     "name": "stderr",
     "output_type": "stream",
     "text": [
      "100%|██████████| 2000/2000 [00:01<00:00, 1078.42it/s]\n"
     ]
    },
    {
     "name": "stdout",
     "output_type": "stream",
     "text": [
      "[0, 0.09653562887368966, 0.8914489216651209, 1] [5.0, 5.0, 2.0, 1.0] 1.0454545454545454\n"
     ]
    },
    {
     "name": "stderr",
     "output_type": "stream",
     "text": [
      "100%|██████████| 2000/2000 [00:01<00:00, 1085.19it/s]\n"
     ]
    },
    {
     "name": "stdout",
     "output_type": "stream",
     "text": [
      "[0, 0.09653562887368966, 0.8914489216651209, 1] [5.0, 5.0, 2.0, 1.0] 1.0545454545454547\n"
     ]
    },
    {
     "name": "stderr",
     "output_type": "stream",
     "text": [
      "100%|██████████| 2000/2000 [00:01<00:00, 1159.04it/s]\n"
     ]
    },
    {
     "name": "stdout",
     "output_type": "stream",
     "text": [
      "[0, 0.09653562887368966, 0.8914489216651209, 1] [5.0, 5.0, 2.0, 1.0] 1.0636363636363637\n"
     ]
    },
    {
     "name": "stderr",
     "output_type": "stream",
     "text": [
      "100%|██████████| 2000/2000 [00:01<00:00, 1174.73it/s]\n"
     ]
    },
    {
     "name": "stdout",
     "output_type": "stream",
     "text": [
      "[0, 0.09653562887368966, 0.8914489216651209, 1] [5.0, 5.0, 2.0, 1.0] 1.0727272727272728\n"
     ]
    },
    {
     "name": "stderr",
     "output_type": "stream",
     "text": [
      "100%|██████████| 2000/2000 [00:01<00:00, 1261.82it/s]\n"
     ]
    },
    {
     "name": "stdout",
     "output_type": "stream",
     "text": [
      "[0, 0, 0.8914489216651209, 1] [5.0, 5.0, 2.0, 1.0] 1.0818181818181818\n"
     ]
    },
    {
     "name": "stderr",
     "output_type": "stream",
     "text": [
      "100%|██████████| 2000/2000 [00:01<00:00, 1181.47it/s]\n"
     ]
    },
    {
     "name": "stdout",
     "output_type": "stream",
     "text": [
      "[0, 0, 0.8914489216651209, 1] [5.0, 5.0, 2.0, 1.0] 1.0909090909090908\n"
     ]
    },
    {
     "name": "stderr",
     "output_type": "stream",
     "text": [
      "100%|██████████| 2000/2000 [00:01<00:00, 1226.19it/s]\n"
     ]
    },
    {
     "name": "stdout",
     "output_type": "stream",
     "text": [
      "[0, 0, 0.5824985156075003, 1] [5.0, 5.0, 3.0, 1.0] 1.1\n"
     ]
    },
    {
     "name": "stderr",
     "output_type": "stream",
     "text": [
      "100%|██████████| 2000/2000 [00:01<00:00, 1887.71it/s]\n"
     ]
    },
    {
     "name": "stdout",
     "output_type": "stream",
     "text": [
      "[0, 0, 0.5824985156075003, 1] [5.0, 5.0, 3.0, 1.0] 1.1090909090909091\n"
     ]
    },
    {
     "name": "stderr",
     "output_type": "stream",
     "text": [
      "100%|██████████| 2000/2000 [00:00<00:00, 2019.03it/s]\n"
     ]
    },
    {
     "name": "stdout",
     "output_type": "stream",
     "text": [
      "[0, 0, 0.5824985156075003, 1] [5.0, 5.0, 3.0, 1.0] 1.1181818181818182\n"
     ]
    },
    {
     "name": "stderr",
     "output_type": "stream",
     "text": [
      "100%|██████████| 2000/2000 [00:01<00:00, 1804.29it/s]\n"
     ]
    },
    {
     "name": "stdout",
     "output_type": "stream",
     "text": [
      "[0, 0, 0.5824985156075003, 1] [5.0, 5.0, 3.0, 1.0] 1.1272727272727274\n"
     ]
    },
    {
     "name": "stderr",
     "output_type": "stream",
     "text": [
      "100%|██████████| 2000/2000 [00:01<00:00, 1945.59it/s]\n"
     ]
    },
    {
     "name": "stdout",
     "output_type": "stream",
     "text": [
      "[0, 0, 0.5824985156075003, 1] [5.0, 5.0, 3.0, 1.0] 1.1363636363636365\n"
     ]
    },
    {
     "name": "stderr",
     "output_type": "stream",
     "text": [
      "100%|██████████| 2000/2000 [00:01<00:00, 1988.08it/s]\n"
     ]
    },
    {
     "name": "stdout",
     "output_type": "stream",
     "text": [
      "[0, 0, 0.5824985156075003, 1] [5.0, 5.0, 3.0, 1.0] 1.1454545454545455\n"
     ]
    },
    {
     "name": "stderr",
     "output_type": "stream",
     "text": [
      "100%|██████████| 2000/2000 [00:01<00:00, 1815.51it/s]\n"
     ]
    },
    {
     "name": "stdout",
     "output_type": "stream",
     "text": [
      "[0, 0, 0.5824985156075003, 1] [5.0, 5.0, 3.0, 1.0] 1.1545454545454545\n"
     ]
    },
    {
     "name": "stderr",
     "output_type": "stream",
     "text": [
      "100%|██████████| 2000/2000 [00:01<00:00, 1902.79it/s]\n"
     ]
    },
    {
     "name": "stdout",
     "output_type": "stream",
     "text": [
      "[0, 0, 0.5824985156075003, 1] [5.0, 5.0, 3.0, 1.0] 1.1636363636363636\n"
     ]
    },
    {
     "name": "stderr",
     "output_type": "stream",
     "text": [
      "100%|██████████| 2000/2000 [00:01<00:00, 1862.13it/s]\n"
     ]
    },
    {
     "name": "stdout",
     "output_type": "stream",
     "text": [
      "[0, 0, 0.5824985156075003, 1] [5.0, 5.0, 3.0, 1.0] 1.1727272727272728\n"
     ]
    },
    {
     "name": "stderr",
     "output_type": "stream",
     "text": [
      "100%|██████████| 2000/2000 [00:00<00:00, 2002.92it/s]\n"
     ]
    },
    {
     "name": "stdout",
     "output_type": "stream",
     "text": [
      "[0, 0, 0.5824985156075003, 1] [5.0, 5.0, 3.0, 1.0] 1.1818181818181819\n"
     ]
    },
    {
     "name": "stderr",
     "output_type": "stream",
     "text": [
      "100%|██████████| 2000/2000 [00:01<00:00, 1971.64it/s]\n"
     ]
    },
    {
     "name": "stdout",
     "output_type": "stream",
     "text": [
      "[0, 0, 0.5824985156075003, 1] [5.0, 5.0, 3.0, 1.0] 1.190909090909091\n"
     ]
    },
    {
     "name": "stderr",
     "output_type": "stream",
     "text": [
      "100%|██████████| 2000/2000 [00:00<00:00, 2003.48it/s]\n"
     ]
    },
    {
     "name": "stdout",
     "output_type": "stream",
     "text": [
      "[0, 0, 0.5824985156075003, 1] [5.0, 5.0, 3.0, 1.0] 1.2\n"
     ]
    },
    {
     "name": "stderr",
     "output_type": "stream",
     "text": [
      "100%|██████████| 2000/2000 [00:01<00:00, 1953.99it/s]\n"
     ]
    },
    {
     "name": "stdout",
     "output_type": "stream",
     "text": [
      "[0, 0, 0.5824985156075003, 1] [5.0, 5.0, 3.0, 1.0] 1.209090909090909\n"
     ]
    },
    {
     "name": "stderr",
     "output_type": "stream",
     "text": [
      "100%|██████████| 2000/2000 [00:01<00:00, 1763.67it/s]\n"
     ]
    },
    {
     "name": "stdout",
     "output_type": "stream",
     "text": [
      "[0, 0, 0.5824985156075003, 1] [5.0, 5.0, 3.0, 1.0] 1.2181818181818183\n"
     ]
    },
    {
     "name": "stderr",
     "output_type": "stream",
     "text": [
      "100%|██████████| 2000/2000 [00:01<00:00, 1870.89it/s]\n"
     ]
    },
    {
     "name": "stdout",
     "output_type": "stream",
     "text": [
      "[0, 0, 0.5824985156075003, 1] [5.0, 5.0, 3.0, 1.0] 1.2272727272727273\n"
     ]
    },
    {
     "name": "stderr",
     "output_type": "stream",
     "text": [
      "100%|██████████| 2000/2000 [00:01<00:00, 1976.28it/s]\n"
     ]
    },
    {
     "name": "stdout",
     "output_type": "stream",
     "text": [
      "[0, 0, 0.5824985156075003, 1] [5.0, 5.0, 3.0, 1.0] 1.2363636363636363\n"
     ]
    },
    {
     "name": "stderr",
     "output_type": "stream",
     "text": [
      "100%|██████████| 2000/2000 [00:00<00:00, 2041.42it/s]\n"
     ]
    },
    {
     "name": "stdout",
     "output_type": "stream",
     "text": [
      "[0, 0, 0.5824985156075003, 1] [5.0, 5.0, 3.0, 1.0] 1.2454545454545456\n"
     ]
    },
    {
     "name": "stderr",
     "output_type": "stream",
     "text": [
      "100%|██████████| 2000/2000 [00:01<00:00, 1904.73it/s]\n"
     ]
    },
    {
     "name": "stdout",
     "output_type": "stream",
     "text": [
      "[0, 0, 0.5824985156075003, 1] [5.0, 5.0, 3.0, 1.0] 1.2545454545454546\n"
     ]
    },
    {
     "name": "stderr",
     "output_type": "stream",
     "text": [
      "100%|██████████| 2000/2000 [00:01<00:00, 1908.31it/s]\n"
     ]
    },
    {
     "name": "stdout",
     "output_type": "stream",
     "text": [
      "[0, 0, 0.5824985156075003, 1] [5.0, 5.0, 3.0, 1.0] 1.2636363636363637\n"
     ]
    },
    {
     "name": "stderr",
     "output_type": "stream",
     "text": [
      "100%|██████████| 2000/2000 [00:01<00:00, 1945.43it/s]\n"
     ]
    },
    {
     "name": "stdout",
     "output_type": "stream",
     "text": [
      "[0, 0, 0.31929334294469197, 1] [5.0, 5.0, 4.0, 1.0] 1.2727272727272727\n"
     ]
    },
    {
     "name": "stderr",
     "output_type": "stream",
     "text": [
      "100%|██████████| 2000/2000 [00:01<00:00, 1839.89it/s]\n"
     ]
    },
    {
     "name": "stdout",
     "output_type": "stream",
     "text": [
      "[0, 0, 0.31929334294469197, 1] [5.0, 5.0, 4.0, 1.0] 1.2818181818181817\n"
     ]
    },
    {
     "name": "stderr",
     "output_type": "stream",
     "text": [
      "100%|██████████| 2000/2000 [00:01<00:00, 1969.67it/s]\n"
     ]
    },
    {
     "name": "stdout",
     "output_type": "stream",
     "text": [
      "[0, 0, 0.31929334294469197, 1] [5.0, 5.0, 4.0, 1.0] 1.290909090909091\n"
     ]
    },
    {
     "name": "stderr",
     "output_type": "stream",
     "text": [
      "100%|██████████| 2000/2000 [00:01<00:00, 1949.27it/s]\n"
     ]
    },
    {
     "name": "stdout",
     "output_type": "stream",
     "text": [
      "[0, 0, 0.31929334294469197, 1] [5.0, 5.0, 4.0, 1.0] 1.3\n"
     ]
    },
    {
     "name": "stderr",
     "output_type": "stream",
     "text": [
      "100%|██████████| 2000/2000 [00:01<00:00, 1845.97it/s]\n"
     ]
    },
    {
     "name": "stdout",
     "output_type": "stream",
     "text": [
      "[0, 0, 0.31929334294469197, 1] [5.0, 5.0, 4.0, 1.0] 1.309090909090909\n"
     ]
    },
    {
     "name": "stderr",
     "output_type": "stream",
     "text": [
      "100%|██████████| 2000/2000 [00:01<00:00, 1878.90it/s]\n"
     ]
    },
    {
     "name": "stdout",
     "output_type": "stream",
     "text": [
      "[0, 0, 0.31929334294469197, 1] [5.0, 5.0, 4.0, 1.0] 1.3181818181818183\n"
     ]
    },
    {
     "name": "stderr",
     "output_type": "stream",
     "text": [
      "100%|██████████| 2000/2000 [00:01<00:00, 1913.78it/s]\n"
     ]
    },
    {
     "name": "stdout",
     "output_type": "stream",
     "text": [
      "[0, 0, 0.31929334294469197, 1] [5.0, 5.0, 4.0, 1.0] 1.3272727272727272\n"
     ]
    },
    {
     "name": "stderr",
     "output_type": "stream",
     "text": [
      "100%|██████████| 2000/2000 [00:01<00:00, 1862.02it/s]\n"
     ]
    },
    {
     "name": "stdout",
     "output_type": "stream",
     "text": [
      "[0, 0, 0.31929334294469197, 1] [5.0, 5.0, 4.0, 1.0] 1.3363636363636364\n"
     ]
    },
    {
     "name": "stderr",
     "output_type": "stream",
     "text": [
      "100%|██████████| 2000/2000 [00:01<00:00, 1938.75it/s]\n"
     ]
    },
    {
     "name": "stdout",
     "output_type": "stream",
     "text": [
      "[0, 0, 0.31929334294469197, 1] [5.0, 5.0, 4.0, 1.0] 1.3454545454545455\n"
     ]
    },
    {
     "name": "stderr",
     "output_type": "stream",
     "text": [
      "100%|██████████| 2000/2000 [00:01<00:00, 1839.93it/s]\n"
     ]
    },
    {
     "name": "stdout",
     "output_type": "stream",
     "text": [
      "[0, 0, 0.31929334294469197, 1] [5.0, 5.0, 4.0, 1.0] 1.3545454545454545\n"
     ]
    },
    {
     "name": "stderr",
     "output_type": "stream",
     "text": [
      "100%|██████████| 2000/2000 [00:01<00:00, 1880.45it/s]\n"
     ]
    },
    {
     "name": "stdout",
     "output_type": "stream",
     "text": [
      "[0, 0, 0.31929334294469197, 1] [5.0, 5.0, 4.0, 1.0] 1.3636363636363638\n"
     ]
    },
    {
     "name": "stderr",
     "output_type": "stream",
     "text": [
      "100%|██████████| 2000/2000 [00:01<00:00, 1876.17it/s]\n"
     ]
    },
    {
     "name": "stdout",
     "output_type": "stream",
     "text": [
      "[0, 0, 0.31929334294469197, 1] [5.0, 5.0, 4.0, 1.0] 1.3727272727272728\n"
     ]
    },
    {
     "name": "stderr",
     "output_type": "stream",
     "text": [
      "100%|██████████| 2000/2000 [00:00<00:00, 2003.95it/s]\n"
     ]
    },
    {
     "name": "stdout",
     "output_type": "stream",
     "text": [
      "[0, 0, 0.31929334294469197, 1] [5.0, 5.0, 4.0, 1.0] 1.3818181818181818\n"
     ]
    },
    {
     "name": "stderr",
     "output_type": "stream",
     "text": [
      "100%|██████████| 2000/2000 [00:01<00:00, 1815.06it/s]\n"
     ]
    },
    {
     "name": "stdout",
     "output_type": "stream",
     "text": [
      "[0, 0, 0.31929334294469197, 1] [5.0, 5.0, 4.0, 1.0] 1.3909090909090909\n"
     ]
    },
    {
     "name": "stderr",
     "output_type": "stream",
     "text": [
      "100%|██████████| 2000/2000 [00:01<00:00, 1774.56it/s]\n"
     ]
    },
    {
     "name": "stdout",
     "output_type": "stream",
     "text": [
      "[0, 0, 0.31929334294469197, 1] [5.0, 5.0, 4.0, 1.0] 1.4\n"
     ]
    },
    {
     "name": "stderr",
     "output_type": "stream",
     "text": [
      "100%|██████████| 2000/2000 [00:01<00:00, 1640.76it/s]\n"
     ]
    },
    {
     "name": "stdout",
     "output_type": "stream",
     "text": [
      "[0, 0, 0.31929334294469197, 1] [5.0, 5.0, 4.0, 1.0] 1.4090909090909092\n"
     ]
    },
    {
     "name": "stderr",
     "output_type": "stream",
     "text": [
      "100%|██████████| 2000/2000 [00:01<00:00, 1815.04it/s]\n"
     ]
    },
    {
     "name": "stdout",
     "output_type": "stream",
     "text": [
      "[0, 0, 0.09653562887368966, 1] [5.0, 5.0, 5.0, 1.0] 1.4181818181818182\n"
     ]
    },
    {
     "name": "stderr",
     "output_type": "stream",
     "text": [
      "100%|██████████| 2000/2000 [00:01<00:00, 1686.30it/s]\n"
     ]
    },
    {
     "name": "stdout",
     "output_type": "stream",
     "text": [
      "[0, 0, 0.09653562887368966, 1] [5.0, 5.0, 5.0, 1.0] 1.4272727272727272\n"
     ]
    },
    {
     "name": "stderr",
     "output_type": "stream",
     "text": [
      "100%|██████████| 2000/2000 [00:01<00:00, 1538.14it/s]\n"
     ]
    },
    {
     "name": "stdout",
     "output_type": "stream",
     "text": [
      "[0, 0, 0.09653562887368966, 1] [5.0, 5.0, 5.0, 1.0] 1.4363636363636365\n"
     ]
    },
    {
     "name": "stderr",
     "output_type": "stream",
     "text": [
      "100%|██████████| 2000/2000 [00:01<00:00, 1581.00it/s]\n"
     ]
    },
    {
     "name": "stdout",
     "output_type": "stream",
     "text": [
      "[0, 0, 0.09653562887368966, 1] [5.0, 5.0, 5.0, 1.0] 1.4454545454545453\n"
     ]
    },
    {
     "name": "stderr",
     "output_type": "stream",
     "text": [
      "100%|██████████| 2000/2000 [00:01<00:00, 1646.02it/s]\n"
     ]
    },
    {
     "name": "stdout",
     "output_type": "stream",
     "text": [
      "[0, 0, 0.09653562887368966, 1] [5.0, 5.0, 5.0, 1.0] 1.4545454545454546\n"
     ]
    },
    {
     "name": "stderr",
     "output_type": "stream",
     "text": [
      "100%|██████████| 2000/2000 [00:01<00:00, 1705.69it/s]\n"
     ]
    },
    {
     "name": "stdout",
     "output_type": "stream",
     "text": [
      "[0, 0, 0.09653562887368966, 1] [5.0, 5.0, 5.0, 1.0] 1.4636363636363636\n"
     ]
    },
    {
     "name": "stderr",
     "output_type": "stream",
     "text": [
      "100%|██████████| 2000/2000 [00:01<00:00, 1673.05it/s]\n"
     ]
    },
    {
     "name": "stdout",
     "output_type": "stream",
     "text": [
      "[0, 0, 0.09653562887368966, 1] [5.0, 5.0, 5.0, 1.0] 1.4727272727272727\n"
     ]
    },
    {
     "name": "stderr",
     "output_type": "stream",
     "text": [
      "100%|██████████| 2000/2000 [00:01<00:00, 1706.59it/s]\n"
     ]
    },
    {
     "name": "stdout",
     "output_type": "stream",
     "text": [
      "[0, 0, 0.09653562887368966, 1] [5.0, 5.0, 5.0, 1.0] 1.481818181818182\n"
     ]
    },
    {
     "name": "stderr",
     "output_type": "stream",
     "text": [
      "100%|██████████| 2000/2000 [00:01<00:00, 1524.49it/s]\n"
     ]
    },
    {
     "name": "stdout",
     "output_type": "stream",
     "text": [
      "[0, 0, 0.09653562887368966, 1] [5.0, 5.0, 5.0, 1.0] 1.490909090909091\n"
     ]
    },
    {
     "name": "stderr",
     "output_type": "stream",
     "text": [
      "100%|██████████| 2000/2000 [00:01<00:00, 1644.68it/s]\n"
     ]
    },
    {
     "name": "stdout",
     "output_type": "stream",
     "text": [
      "[0, 0, 0.09653562887368966, 1] [5.0, 5.0, 5.0, 1.0] 1.5\n"
     ]
    },
    {
     "name": "stderr",
     "output_type": "stream",
     "text": [
      "100%|██████████| 2000/2000 [00:01<00:00, 1605.13it/s]\n"
     ]
    },
    {
     "name": "stdout",
     "output_type": "stream",
     "text": [
      "[0, 0, 0.09653562887368966, 1] [5.0, 5.0, 5.0, 1.0] 1.5090909090909093\n"
     ]
    },
    {
     "name": "stderr",
     "output_type": "stream",
     "text": [
      "100%|██████████| 2000/2000 [00:01<00:00, 1476.05it/s]\n"
     ]
    },
    {
     "name": "stdout",
     "output_type": "stream",
     "text": [
      "[0, 0, 0.09653562887368966, 1] [5.0, 5.0, 5.0, 1.0] 1.518181818181818\n"
     ]
    },
    {
     "name": "stderr",
     "output_type": "stream",
     "text": [
      "100%|██████████| 2000/2000 [00:01<00:00, 1606.97it/s]\n"
     ]
    },
    {
     "name": "stdout",
     "output_type": "stream",
     "text": [
      "[0, 0, 0.09653562887368966, 1] [5.0, 5.0, 5.0, 1.0] 1.5272727272727273\n"
     ]
    },
    {
     "name": "stderr",
     "output_type": "stream",
     "text": [
      "100%|██████████| 2000/2000 [00:01<00:00, 1574.12it/s]\n"
     ]
    },
    {
     "name": "stdout",
     "output_type": "stream",
     "text": [
      "[0, 0, 0.09653562887368966, 1] [5.0, 5.0, 5.0, 1.0] 1.5363636363636364\n"
     ]
    },
    {
     "name": "stderr",
     "output_type": "stream",
     "text": [
      "100%|██████████| 2000/2000 [00:01<00:00, 1533.67it/s]\n"
     ]
    },
    {
     "name": "stdout",
     "output_type": "stream",
     "text": [
      "[0, 0, 0.09653562887368966, 1] [5.0, 5.0, 5.0, 1.0] 1.5454545454545454\n"
     ]
    },
    {
     "name": "stderr",
     "output_type": "stream",
     "text": [
      "100%|██████████| 2000/2000 [00:01<00:00, 1679.21it/s]\n"
     ]
    },
    {
     "name": "stdout",
     "output_type": "stream",
     "text": [
      "[0, 0, 0, 1] [5.0, 5.0, 5.0, 1.0] 1.5545454545454547\n"
     ]
    },
    {
     "name": "stderr",
     "output_type": "stream",
     "text": [
      "100%|██████████| 2000/2000 [00:01<00:00, 1514.45it/s]\n"
     ]
    },
    {
     "name": "stdout",
     "output_type": "stream",
     "text": [
      "[0, 0, 0, 1] [5.0, 5.0, 5.0, 1.0] 1.5636363636363635\n"
     ]
    },
    {
     "name": "stderr",
     "output_type": "stream",
     "text": [
      "100%|██████████| 2000/2000 [00:01<00:00, 1584.13it/s]\n"
     ]
    },
    {
     "name": "stdout",
     "output_type": "stream",
     "text": [
      "[0, 0, 0, 1] [5.0, 5.0, 5.0, 1.0] 1.5727272727272728\n"
     ]
    },
    {
     "name": "stderr",
     "output_type": "stream",
     "text": [
      "100%|██████████| 2000/2000 [00:01<00:00, 1642.54it/s]\n"
     ]
    },
    {
     "name": "stdout",
     "output_type": "stream",
     "text": [
      "[0, 0, 0, 1] [5.0, 5.0, 5.0, 1.0] 1.5818181818181818\n"
     ]
    },
    {
     "name": "stderr",
     "output_type": "stream",
     "text": [
      "100%|██████████| 2000/2000 [00:01<00:00, 1559.38it/s]\n"
     ]
    },
    {
     "name": "stdout",
     "output_type": "stream",
     "text": [
      "[0, 0, 0, 1] [5.0, 5.0, 5.0, 1.0] 1.5909090909090908\n"
     ]
    },
    {
     "name": "stderr",
     "output_type": "stream",
     "text": [
      "100%|██████████| 2000/2000 [00:01<00:00, 1576.01it/s]\n"
     ]
    },
    {
     "name": "stdout",
     "output_type": "stream",
     "text": [
      "[0, 0, 0, 1] [5.0, 5.0, 5.0, 1.0] 1.6\n"
     ]
    },
    {
     "name": "stderr",
     "output_type": "stream",
     "text": [
      "100%|██████████| 2000/2000 [00:01<00:00, 1578.36it/s]\n"
     ]
    },
    {
     "name": "stdout",
     "output_type": "stream",
     "text": [
      "[0, 0, 0, 1] [5.0, 5.0, 5.0, 1.0] 1.6090909090909091\n"
     ]
    },
    {
     "name": "stderr",
     "output_type": "stream",
     "text": [
      "100%|██████████| 2000/2000 [00:01<00:00, 1578.51it/s]\n"
     ]
    },
    {
     "name": "stdout",
     "output_type": "stream",
     "text": [
      "[0, 0, 0, 1] [5.0, 5.0, 5.0, 1.0] 1.6181818181818182\n"
     ]
    },
    {
     "name": "stderr",
     "output_type": "stream",
     "text": [
      "100%|██████████| 2000/2000 [00:01<00:00, 1476.81it/s]\n"
     ]
    },
    {
     "name": "stdout",
     "output_type": "stream",
     "text": [
      "[0, 0, 0, 1] [5.0, 5.0, 5.0, 1.0] 1.6272727272727274\n"
     ]
    },
    {
     "name": "stderr",
     "output_type": "stream",
     "text": [
      "100%|██████████| 2000/2000 [00:01<00:00, 1414.37it/s]\n"
     ]
    },
    {
     "name": "stdout",
     "output_type": "stream",
     "text": [
      "[0, 0, 0, 1] [5.0, 5.0, 5.0, 1.0] 1.6363636363636362\n"
     ]
    },
    {
     "name": "stderr",
     "output_type": "stream",
     "text": [
      "100%|██████████| 2000/2000 [00:01<00:00, 1420.00it/s]\n"
     ]
    },
    {
     "name": "stdout",
     "output_type": "stream",
     "text": [
      "[0, 0, 0, 1] [5.0, 5.0, 5.0, 1.0] 1.6454545454545455\n"
     ]
    },
    {
     "name": "stderr",
     "output_type": "stream",
     "text": [
      "100%|██████████| 2000/2000 [00:01<00:00, 1473.81it/s]\n"
     ]
    },
    {
     "name": "stdout",
     "output_type": "stream",
     "text": [
      "[0, 0, 0, 1] [5.0, 5.0, 5.0, 1.0] 1.6545454545454545\n"
     ]
    },
    {
     "name": "stderr",
     "output_type": "stream",
     "text": [
      "100%|██████████| 2000/2000 [00:01<00:00, 1525.20it/s]\n"
     ]
    },
    {
     "name": "stdout",
     "output_type": "stream",
     "text": [
      "[0, 0, 0, 1] [5.0, 5.0, 5.0, 1.0] 1.6636363636363636\n"
     ]
    },
    {
     "name": "stderr",
     "output_type": "stream",
     "text": [
      "100%|██████████| 2000/2000 [00:01<00:00, 1479.96it/s]\n"
     ]
    },
    {
     "name": "stdout",
     "output_type": "stream",
     "text": [
      "[0, 0, 0, 1] [5.0, 5.0, 5.0, 1.0] 1.6727272727272728\n"
     ]
    },
    {
     "name": "stderr",
     "output_type": "stream",
     "text": [
      "100%|██████████| 2000/2000 [00:01<00:00, 1585.84it/s]\n"
     ]
    },
    {
     "name": "stdout",
     "output_type": "stream",
     "text": [
      "[0, 0, 0, 1] [5.0, 5.0, 5.0, 1.0] 1.6818181818181817\n"
     ]
    },
    {
     "name": "stderr",
     "output_type": "stream",
     "text": [
      "100%|██████████| 2000/2000 [00:01<00:00, 1562.92it/s]\n"
     ]
    },
    {
     "name": "stdout",
     "output_type": "stream",
     "text": [
      "[0, 0, 0, 1] [5.0, 5.0, 5.0, 1.0] 1.690909090909091\n"
     ]
    },
    {
     "name": "stderr",
     "output_type": "stream",
     "text": [
      "100%|██████████| 2000/2000 [00:01<00:00, 1579.68it/s]\n"
     ]
    },
    {
     "name": "stdout",
     "output_type": "stream",
     "text": [
      "[0, 0, 0, 1] [5.0, 5.0, 5.0, 1.0] 1.7\n"
     ]
    },
    {
     "name": "stderr",
     "output_type": "stream",
     "text": [
      "100%|██████████| 2000/2000 [00:01<00:00, 1528.21it/s]\n"
     ]
    },
    {
     "name": "stdout",
     "output_type": "stream",
     "text": [
      "56.187\n"
     ]
    },
    {
     "data": {
      "image/png": "[encoded data removed]",
      "text/plain": [
       "<Figure size 640x480 with 1 Axes>"
      ]
     },
     "metadata": {},
     "output_type": "display_data"
    },
    {
     "data": {
      "image/png": "[encoded data removed]",
      "text/plain": [
       "<Figure size 640x480 with 1 Axes>"
      ]
     },
     "metadata": {},
     "output_type": "display_data"
    }
   ],
   "source": [
    "h_mean_int = []\n",
    "h_std_int = []\n",
    "space = np.linspace(0.8,1.7,100)\n",
    "for alpha in space:\n",
    "    policy, policy_bin = policy_maker_it(int_env, protocols[0], alpha)\n",
    "    print(policy,policy_bin,alpha)\n",
    "    depth_heuristic = batch_heuristic(2000,int_env,policy)\n",
    "    h_mean_int.append(np.mean(depth_heuristic))\n",
    "    h_std_int.append(np.std(depth_heuristic))\n",
    "\n",
    "print(np.amin(h_mean_int))\n",
    "plt.plot(space, h_mean_int)\n",
    "plt.show()\n",
    "plt.plot(space, h_std_int)\n",
    "plt.show()"
   ]
  },
  {
   "cell_type": "markdown",
   "metadata": {},
   "source": [
    "### interpolation(with knowledge)"
   ]
  },
  {
   "cell_type": "code",
   "execution_count": 21,
   "metadata": {},
   "outputs": [
    {
     "name": "stdout",
     "output_type": "stream",
     "text": [
      "the upper bin size is:\n",
      "34.0\n",
      "the lower bin size\n",
      "1.0\n"
     ]
    }
   ],
   "source": [
    "import intp_alt_env as iaenv\n",
    "\n",
    "protocols = [[0.3, 0.6],[0.75, 0.51]]\n",
    "num_qubits = 20\n",
    "threshold = 1/2\n",
    "decay_rate = 0.02\n",
    "\n",
    "int_env_alt = iaenv.IntpAltEnv(protocols, num_qubits ,threshold, decay_rate)"
   ]
  },
  {
   "cell_type": "code",
   "execution_count": 18,
   "metadata": {},
   "outputs": [
    {
     "name": "stdout",
     "output_type": "stream",
     "text": [
      "[0, 0.0, 0.6000000000000001, 1]\n"
     ]
    },
    {
     "name": "stderr",
     "output_type": "stream",
     "text": [
      "100%|██████████| 1/1 [00:00<00:00, 1075.74it/s]\n"
     ]
    },
    {
     "name": "stdout",
     "output_type": "stream",
     "text": [
      "can run one batch\n"
     ]
    },
    {
     "name": "stderr",
     "output_type": "stream",
     "text": [
      "100%|██████████| 2000/2000 [00:01<00:00, 1075.77it/s]"
     ]
    },
    {
     "name": "stdout",
     "output_type": "stream",
     "text": [
      "80.649\n",
      "76.02376469894133\n"
     ]
    },
    {
     "name": "stderr",
     "output_type": "stream",
     "text": [
      "\n"
     ]
    }
   ],
   "source": [
    "def policy_maker_it_alt(env, p,alpha = 1):\n",
    "    ahead = 0\n",
    "    policy = []\n",
    "    policy_bin =[]\n",
    "    p_min = np.min(p)\n",
    "    p_max = np.max(p)\n",
    "    for i in range(num_qubits):\n",
    "        n = alpha*ahead\n",
    "        tp_n = np.floor(n)\n",
    "        q = p_min*(env.bin_size-tp_n)/(p_min*(env.bin_size-tp_n)+p_max*(tp_n-env.bin_size_min))\n",
    "        if q<0:\n",
    "            q = 0\n",
    "            tp_n = env.bin_size\n",
    "        elif q>1:\n",
    "            q = 1\n",
    "            tp_n = env.bin_size_min\n",
    "        policy.append(q)\n",
    "        policy_bin.append(tp_n)\n",
    "        ahead = ahead + alpha/(env.p_max*policy[i]+env.p_min*(1-policy[i]))\n",
    "    return policy[::-1], policy_bin[::-1]\n",
    "\n",
    "policy = policy_maker_it_alt(int_env_alt,protocols[0])[0]\n",
    "print(policy)\n",
    "test = batch_heuristic(1,int_env_alt,policy)\n",
    "print('can run one batch')\n",
    "depth_heuristic = batch_heuristic(2000,int_env_alt,policy)\n",
    "print(np.mean(depth_heuristic))\n",
    "print(np.std(depth_heuristic))"
   ]
  },
  {
   "cell_type": "code",
   "execution_count": 19,
   "metadata": {},
   "outputs": [
    {
     "name": "stdout",
     "output_type": "stream",
     "text": [
      "[0.0, 0.3333333333333333, 1.0, 1] [5.0, 3.0, 1.0, 1.0] 0.8\n"
     ]
    },
    {
     "name": "stderr",
     "output_type": "stream",
     "text": [
      "100%|██████████| 2000/2000 [00:03<00:00, 626.34it/s]\n"
     ]
    },
    {
     "name": "stdout",
     "output_type": "stream",
     "text": [
      "[0.0, 0.3333333333333333, 1.0, 1] [5.0, 3.0, 1.0, 1.0] 0.8090909090909091\n"
     ]
    },
    {
     "name": "stderr",
     "output_type": "stream",
     "text": [
      "100%|██████████| 2000/2000 [00:03<00:00, 626.08it/s]\n"
     ]
    },
    {
     "name": "stdout",
     "output_type": "stream",
     "text": [
      "[0.0, 0.3333333333333333, 1.0, 1] [5.0, 3.0, 1.0, 1.0] 0.8181818181818182\n"
     ]
    },
    {
     "name": "stderr",
     "output_type": "stream",
     "text": [
      "100%|██████████| 2000/2000 [00:03<00:00, 578.92it/s]\n"
     ]
    },
    {
     "name": "stdout",
     "output_type": "stream",
     "text": [
      "[0.0, 0.3333333333333333, 1.0, 1] [5.0, 3.0, 1.0, 1.0] 0.8272727272727273\n"
     ]
    },
    {
     "name": "stderr",
     "output_type": "stream",
     "text": [
      "100%|██████████| 2000/2000 [00:03<00:00, 636.42it/s]\n"
     ]
    },
    {
     "name": "stdout",
     "output_type": "stream",
     "text": [
      "[0, 0.3333333333333333, 1.0, 1] [5.0, 3.0, 1.0, 1.0] 0.8363636363636364\n"
     ]
    },
    {
     "name": "stderr",
     "output_type": "stream",
     "text": [
      "100%|██████████| 2000/2000 [00:03<00:00, 630.52it/s]\n"
     ]
    },
    {
     "name": "stdout",
     "output_type": "stream",
     "text": [
      "[0, 0.3333333333333333, 1.0, 1] [5.0, 3.0, 1.0, 1.0] 0.8454545454545455\n"
     ]
    },
    {
     "name": "stderr",
     "output_type": "stream",
     "text": [
      "100%|██████████| 2000/2000 [00:03<00:00, 619.28it/s]\n"
     ]
    },
    {
     "name": "stdout",
     "output_type": "stream",
     "text": [
      "[0, 0.3333333333333333, 1.0, 1] [5.0, 3.0, 1.0, 1.0] 0.8545454545454546\n"
     ]
    },
    {
     "name": "stderr",
     "output_type": "stream",
     "text": [
      "100%|██████████| 2000/2000 [00:03<00:00, 656.35it/s]\n"
     ]
    },
    {
     "name": "stdout",
     "output_type": "stream",
     "text": [
      "[0, 0.3333333333333333, 1.0, 1] [5.0, 3.0, 1.0, 1.0] 0.8636363636363636\n"
     ]
    },
    {
     "name": "stderr",
     "output_type": "stream",
     "text": [
      "100%|██████████| 2000/2000 [00:03<00:00, 627.52it/s]\n"
     ]
    },
    {
     "name": "stdout",
     "output_type": "stream",
     "text": [
      "[0, 0.3333333333333333, 1.0, 1] [5.0, 3.0, 1.0, 1.0] 0.8727272727272728\n"
     ]
    },
    {
     "name": "stderr",
     "output_type": "stream",
     "text": [
      "100%|██████████| 2000/2000 [00:03<00:00, 632.69it/s]\n"
     ]
    },
    {
     "name": "stdout",
     "output_type": "stream",
     "text": [
      "[0, 0.3333333333333333, 1.0, 1] [5.0, 3.0, 1.0, 1.0] 0.8818181818181818\n"
     ]
    },
    {
     "name": "stderr",
     "output_type": "stream",
     "text": [
      "100%|██████████| 2000/2000 [00:03<00:00, 579.60it/s]\n"
     ]
    },
    {
     "name": "stdout",
     "output_type": "stream",
     "text": [
      "[0, 0.3333333333333333, 1.0, 1] [5.0, 3.0, 1.0, 1.0] 0.890909090909091\n"
     ]
    },
    {
     "name": "stderr",
     "output_type": "stream",
     "text": [
      "100%|██████████| 2000/2000 [00:03<00:00, 613.53it/s]\n"
     ]
    },
    {
     "name": "stdout",
     "output_type": "stream",
     "text": [
      "[0, 0.14285714285714285, 0.6000000000000001, 1] [5.0, 4.0, 2.0, 1.0] 0.9\n"
     ]
    },
    {
     "name": "stderr",
     "output_type": "stream",
     "text": [
      "100%|██████████| 2000/2000 [00:02<00:00, 968.96it/s]\n"
     ]
    },
    {
     "name": "stdout",
     "output_type": "stream",
     "text": [
      "[0, 0.14285714285714285, 0.6000000000000001, 1] [5.0, 4.0, 2.0, 1.0] 0.9090909090909092\n"
     ]
    },
    {
     "name": "stderr",
     "output_type": "stream",
     "text": [
      "100%|██████████| 2000/2000 [00:02<00:00, 943.16it/s] \n"
     ]
    },
    {
     "name": "stdout",
     "output_type": "stream",
     "text": [
      "[0, 0.14285714285714285, 0.6000000000000001, 1] [5.0, 4.0, 2.0, 1.0] 0.9181818181818182\n"
     ]
    },
    {
     "name": "stderr",
     "output_type": "stream",
     "text": [
      "100%|██████████| 2000/2000 [00:02<00:00, 870.29it/s]\n"
     ]
    },
    {
     "name": "stdout",
     "output_type": "stream",
     "text": [
      "[0, 0.14285714285714285, 0.6000000000000001, 1] [5.0, 4.0, 2.0, 1.0] 0.9272727272727272\n"
     ]
    },
    {
     "name": "stderr",
     "output_type": "stream",
     "text": [
      "100%|██████████| 2000/2000 [00:02<00:00, 899.05it/s]\n"
     ]
    },
    {
     "name": "stdout",
     "output_type": "stream",
     "text": [
      "[0, 0.14285714285714285, 0.6000000000000001, 1] [5.0, 4.0, 2.0, 1.0] 0.9363636363636364\n"
     ]
    },
    {
     "name": "stderr",
     "output_type": "stream",
     "text": [
      "100%|██████████| 2000/2000 [00:02<00:00, 906.12it/s] \n"
     ]
    },
    {
     "name": "stdout",
     "output_type": "stream",
     "text": [
      "[0, 0.0, 0.6000000000000001, 1] [5.0, 5.0, 2.0, 1.0] 0.9454545454545455\n"
     ]
    },
    {
     "name": "stderr",
     "output_type": "stream",
     "text": [
      "100%|██████████| 2000/2000 [00:01<00:00, 1116.66it/s]\n"
     ]
    },
    {
     "name": "stdout",
     "output_type": "stream",
     "text": [
      "[0, 0.0, 0.6000000000000001, 1] [5.0, 5.0, 2.0, 1.0] 0.9545454545454546\n"
     ]
    },
    {
     "name": "stderr",
     "output_type": "stream",
     "text": [
      "100%|██████████| 2000/2000 [00:01<00:00, 1100.88it/s]\n"
     ]
    },
    {
     "name": "stdout",
     "output_type": "stream",
     "text": [
      "[0, 0.0, 0.6000000000000001, 1] [5.0, 5.0, 2.0, 1.0] 0.9636363636363636\n"
     ]
    },
    {
     "name": "stderr",
     "output_type": "stream",
     "text": [
      "100%|██████████| 2000/2000 [00:01<00:00, 1100.33it/s]\n"
     ]
    },
    {
     "name": "stdout",
     "output_type": "stream",
     "text": [
      "[0, 0.0, 0.6000000000000001, 1] [5.0, 5.0, 2.0, 1.0] 0.9727272727272728\n"
     ]
    },
    {
     "name": "stderr",
     "output_type": "stream",
     "text": [
      "100%|██████████| 2000/2000 [00:01<00:00, 1105.56it/s]\n"
     ]
    },
    {
     "name": "stdout",
     "output_type": "stream",
     "text": [
      "[0, 0.0, 0.6000000000000001, 1] [5.0, 5.0, 2.0, 1.0] 0.9818181818181819\n"
     ]
    },
    {
     "name": "stderr",
     "output_type": "stream",
     "text": [
      "100%|██████████| 2000/2000 [00:01<00:00, 1111.03it/s]\n"
     ]
    },
    {
     "name": "stdout",
     "output_type": "stream",
     "text": [
      "[0, 0.0, 0.6000000000000001, 1] [5.0, 5.0, 2.0, 1.0] 0.990909090909091\n"
     ]
    },
    {
     "name": "stderr",
     "output_type": "stream",
     "text": [
      "100%|██████████| 2000/2000 [00:01<00:00, 1129.92it/s]\n"
     ]
    },
    {
     "name": "stdout",
     "output_type": "stream",
     "text": [
      "[0, 0.0, 0.6000000000000001, 1] [5.0, 5.0, 2.0, 1.0] 1.0\n"
     ]
    },
    {
     "name": "stderr",
     "output_type": "stream",
     "text": [
      "100%|██████████| 2000/2000 [00:01<00:00, 1108.66it/s]\n"
     ]
    },
    {
     "name": "stdout",
     "output_type": "stream",
     "text": [
      "[0, 0.0, 0.6000000000000001, 1] [5.0, 5.0, 2.0, 1.0] 1.009090909090909\n"
     ]
    },
    {
     "name": "stderr",
     "output_type": "stream",
     "text": [
      "100%|██████████| 2000/2000 [00:01<00:00, 1124.80it/s]\n"
     ]
    },
    {
     "name": "stdout",
     "output_type": "stream",
     "text": [
      "[0, 0.0, 0.6000000000000001, 1] [5.0, 5.0, 2.0, 1.0] 1.0181818181818183\n"
     ]
    },
    {
     "name": "stderr",
     "output_type": "stream",
     "text": [
      "100%|██████████| 2000/2000 [00:01<00:00, 1121.78it/s]\n"
     ]
    },
    {
     "name": "stdout",
     "output_type": "stream",
     "text": [
      "[0, 0.0, 0.6000000000000001, 1] [5.0, 5.0, 2.0, 1.0] 1.0272727272727273\n"
     ]
    },
    {
     "name": "stderr",
     "output_type": "stream",
     "text": [
      "100%|██████████| 2000/2000 [00:01<00:00, 1092.86it/s]\n"
     ]
    },
    {
     "name": "stdout",
     "output_type": "stream",
     "text": [
      "[0, 0, 0.6000000000000001, 1] [5.0, 5.0, 2.0, 1.0] 1.0363636363636364\n"
     ]
    },
    {
     "name": "stderr",
     "output_type": "stream",
     "text": [
      "100%|██████████| 2000/2000 [00:01<00:00, 1088.37it/s]\n"
     ]
    },
    {
     "name": "stdout",
     "output_type": "stream",
     "text": [
      "[0, 0, 0.6000000000000001, 1] [5.0, 5.0, 2.0, 1.0] 1.0454545454545454\n"
     ]
    },
    {
     "name": "stderr",
     "output_type": "stream",
     "text": [
      "100%|██████████| 2000/2000 [00:01<00:00, 1096.49it/s]\n"
     ]
    },
    {
     "name": "stdout",
     "output_type": "stream",
     "text": [
      "[0, 0, 0.6000000000000001, 1] [5.0, 5.0, 2.0, 1.0] 1.0545454545454547\n"
     ]
    },
    {
     "name": "stderr",
     "output_type": "stream",
     "text": [
      "100%|██████████| 2000/2000 [00:01<00:00, 1092.59it/s]\n"
     ]
    },
    {
     "name": "stdout",
     "output_type": "stream",
     "text": [
      "[0, 0, 0.6000000000000001, 1] [5.0, 5.0, 2.0, 1.0] 1.0636363636363637\n"
     ]
    },
    {
     "name": "stderr",
     "output_type": "stream",
     "text": [
      "100%|██████████| 2000/2000 [00:01<00:00, 1075.70it/s]\n"
     ]
    },
    {
     "name": "stdout",
     "output_type": "stream",
     "text": [
      "[0, 0, 0.6000000000000001, 1] [5.0, 5.0, 2.0, 1.0] 1.0727272727272728\n"
     ]
    },
    {
     "name": "stderr",
     "output_type": "stream",
     "text": [
      "100%|██████████| 2000/2000 [00:01<00:00, 1082.51it/s]\n"
     ]
    },
    {
     "name": "stdout",
     "output_type": "stream",
     "text": [
      "[0, 0, 0.6000000000000001, 1] [5.0, 5.0, 2.0, 1.0] 1.0818181818181818\n"
     ]
    },
    {
     "name": "stderr",
     "output_type": "stream",
     "text": [
      "100%|██████████| 2000/2000 [00:01<00:00, 1033.17it/s]\n"
     ]
    },
    {
     "name": "stdout",
     "output_type": "stream",
     "text": [
      "[0, 0, 0.6000000000000001, 1] [5.0, 5.0, 2.0, 1.0] 1.0909090909090908\n"
     ]
    },
    {
     "name": "stderr",
     "output_type": "stream",
     "text": [
      "100%|██████████| 2000/2000 [00:01<00:00, 1070.89it/s]\n"
     ]
    },
    {
     "name": "stdout",
     "output_type": "stream",
     "text": [
      "[0, 0, 0.3333333333333333, 1] [5.0, 5.0, 3.0, 1.0] 1.1\n"
     ]
    },
    {
     "name": "stderr",
     "output_type": "stream",
     "text": [
      "100%|██████████| 2000/2000 [00:01<00:00, 1170.94it/s]\n"
     ]
    },
    {
     "name": "stdout",
     "output_type": "stream",
     "text": [
      "[0, 0, 0.3333333333333333, 1] [5.0, 5.0, 3.0, 1.0] 1.1090909090909091\n"
     ]
    },
    {
     "name": "stderr",
     "output_type": "stream",
     "text": [
      "100%|██████████| 2000/2000 [00:01<00:00, 1167.07it/s]\n"
     ]
    },
    {
     "name": "stdout",
     "output_type": "stream",
     "text": [
      "[0, 0, 0.3333333333333333, 1] [5.0, 5.0, 3.0, 1.0] 1.1181818181818182\n"
     ]
    },
    {
     "name": "stderr",
     "output_type": "stream",
     "text": [
      "100%|██████████| 2000/2000 [00:01<00:00, 1145.35it/s]\n"
     ]
    },
    {
     "name": "stdout",
     "output_type": "stream",
     "text": [
      "[0, 0, 0.3333333333333333, 1] [5.0, 5.0, 3.0, 1.0] 1.1272727272727274\n"
     ]
    },
    {
     "name": "stderr",
     "output_type": "stream",
     "text": [
      "100%|██████████| 2000/2000 [00:01<00:00, 1140.50it/s]\n"
     ]
    },
    {
     "name": "stdout",
     "output_type": "stream",
     "text": [
      "[0, 0, 0.3333333333333333, 1] [5.0, 5.0, 3.0, 1.0] 1.1363636363636365\n"
     ]
    },
    {
     "name": "stderr",
     "output_type": "stream",
     "text": [
      "100%|██████████| 2000/2000 [00:01<00:00, 1140.54it/s]\n"
     ]
    },
    {
     "name": "stdout",
     "output_type": "stream",
     "text": [
      "[0, 0, 0.3333333333333333, 1] [5.0, 5.0, 3.0, 1.0] 1.1454545454545455\n"
     ]
    },
    {
     "name": "stderr",
     "output_type": "stream",
     "text": [
      "100%|██████████| 2000/2000 [00:01<00:00, 1174.72it/s]\n"
     ]
    },
    {
     "name": "stdout",
     "output_type": "stream",
     "text": [
      "[0, 0, 0.3333333333333333, 1] [5.0, 5.0, 3.0, 1.0] 1.1545454545454545\n"
     ]
    },
    {
     "name": "stderr",
     "output_type": "stream",
     "text": [
      "100%|██████████| 2000/2000 [00:01<00:00, 1116.37it/s]\n"
     ]
    },
    {
     "name": "stdout",
     "output_type": "stream",
     "text": [
      "[0, 0, 0.3333333333333333, 1] [5.0, 5.0, 3.0, 1.0] 1.1636363636363636\n"
     ]
    },
    {
     "name": "stderr",
     "output_type": "stream",
     "text": [
      "100%|██████████| 2000/2000 [00:01<00:00, 1157.99it/s]\n"
     ]
    },
    {
     "name": "stdout",
     "output_type": "stream",
     "text": [
      "[0, 0, 0.3333333333333333, 1] [5.0, 5.0, 3.0, 1.0] 1.1727272727272728\n"
     ]
    },
    {
     "name": "stderr",
     "output_type": "stream",
     "text": [
      "100%|██████████| 2000/2000 [00:01<00:00, 1168.50it/s]\n"
     ]
    },
    {
     "name": "stdout",
     "output_type": "stream",
     "text": [
      "[0, 0, 0.3333333333333333, 1] [5.0, 5.0, 3.0, 1.0] 1.1818181818181819\n"
     ]
    },
    {
     "name": "stderr",
     "output_type": "stream",
     "text": [
      "100%|██████████| 2000/2000 [00:01<00:00, 1131.12it/s]\n"
     ]
    },
    {
     "name": "stdout",
     "output_type": "stream",
     "text": [
      "[0, 0, 0.3333333333333333, 1] [5.0, 5.0, 3.0, 1.0] 1.190909090909091\n"
     ]
    },
    {
     "name": "stderr",
     "output_type": "stream",
     "text": [
      "100%|██████████| 2000/2000 [00:01<00:00, 1150.40it/s]\n"
     ]
    },
    {
     "name": "stdout",
     "output_type": "stream",
     "text": [
      "[0, 0, 0.3333333333333333, 1] [5.0, 5.0, 3.0, 1.0] 1.2\n"
     ]
    },
    {
     "name": "stderr",
     "output_type": "stream",
     "text": [
      "100%|██████████| 2000/2000 [00:01<00:00, 1184.74it/s]\n"
     ]
    },
    {
     "name": "stdout",
     "output_type": "stream",
     "text": [
      "[0, 0, 0.3333333333333333, 1] [5.0, 5.0, 3.0, 1.0] 1.209090909090909\n"
     ]
    },
    {
     "name": "stderr",
     "output_type": "stream",
     "text": [
      "100%|██████████| 2000/2000 [00:01<00:00, 1189.02it/s]\n"
     ]
    },
    {
     "name": "stdout",
     "output_type": "stream",
     "text": [
      "[0, 0, 0.3333333333333333, 1] [5.0, 5.0, 3.0, 1.0] 1.2181818181818183\n"
     ]
    },
    {
     "name": "stderr",
     "output_type": "stream",
     "text": [
      "100%|██████████| 2000/2000 [00:01<00:00, 1044.58it/s]\n"
     ]
    },
    {
     "name": "stdout",
     "output_type": "stream",
     "text": [
      "[0, 0, 0.3333333333333333, 1] [5.0, 5.0, 3.0, 1.0] 1.2272727272727273\n"
     ]
    },
    {
     "name": "stderr",
     "output_type": "stream",
     "text": [
      "100%|██████████| 2000/2000 [00:01<00:00, 1142.78it/s]\n"
     ]
    },
    {
     "name": "stdout",
     "output_type": "stream",
     "text": [
      "[0, 0, 0.3333333333333333, 1] [5.0, 5.0, 3.0, 1.0] 1.2363636363636363\n"
     ]
    },
    {
     "name": "stderr",
     "output_type": "stream",
     "text": [
      "100%|██████████| 2000/2000 [00:01<00:00, 1089.87it/s]\n"
     ]
    },
    {
     "name": "stdout",
     "output_type": "stream",
     "text": [
      "[0, 0, 0.3333333333333333, 1] [5.0, 5.0, 3.0, 1.0] 1.2454545454545456\n"
     ]
    },
    {
     "name": "stderr",
     "output_type": "stream",
     "text": [
      "100%|██████████| 2000/2000 [00:01<00:00, 1024.40it/s]\n"
     ]
    },
    {
     "name": "stdout",
     "output_type": "stream",
     "text": [
      "[0, 0, 0.3333333333333333, 1] [5.0, 5.0, 3.0, 1.0] 1.2545454545454546\n"
     ]
    },
    {
     "name": "stderr",
     "output_type": "stream",
     "text": [
      "100%|██████████| 2000/2000 [00:01<00:00, 1037.37it/s]\n"
     ]
    },
    {
     "name": "stdout",
     "output_type": "stream",
     "text": [
      "[0, 0, 0.3333333333333333, 1] [5.0, 5.0, 3.0, 1.0] 1.2636363636363637\n"
     ]
    },
    {
     "name": "stderr",
     "output_type": "stream",
     "text": [
      "100%|██████████| 2000/2000 [00:01<00:00, 1153.35it/s]\n"
     ]
    },
    {
     "name": "stdout",
     "output_type": "stream",
     "text": [
      "[0, 0, 0.14285714285714285, 1] [5.0, 5.0, 4.0, 1.0] 1.2727272727272727\n"
     ]
    },
    {
     "name": "stderr",
     "output_type": "stream",
     "text": [
      "100%|██████████| 2000/2000 [00:01<00:00, 1181.80it/s]\n"
     ]
    },
    {
     "name": "stdout",
     "output_type": "stream",
     "text": [
      "[0, 0, 0.14285714285714285, 1] [5.0, 5.0, 4.0, 1.0] 1.2818181818181817\n"
     ]
    },
    {
     "name": "stderr",
     "output_type": "stream",
     "text": [
      "100%|██████████| 2000/2000 [00:01<00:00, 1229.58it/s]\n"
     ]
    },
    {
     "name": "stdout",
     "output_type": "stream",
     "text": [
      "[0, 0, 0.14285714285714285, 1] [5.0, 5.0, 4.0, 1.0] 1.290909090909091\n"
     ]
    },
    {
     "name": "stderr",
     "output_type": "stream",
     "text": [
      "100%|██████████| 2000/2000 [00:01<00:00, 1195.79it/s]\n"
     ]
    },
    {
     "name": "stdout",
     "output_type": "stream",
     "text": [
      "[0, 0, 0.14285714285714285, 1] [5.0, 5.0, 4.0, 1.0] 1.3\n"
     ]
    },
    {
     "name": "stderr",
     "output_type": "stream",
     "text": [
      "100%|██████████| 2000/2000 [00:01<00:00, 1213.21it/s]\n"
     ]
    },
    {
     "name": "stdout",
     "output_type": "stream",
     "text": [
      "[0, 0, 0.14285714285714285, 1] [5.0, 5.0, 4.0, 1.0] 1.309090909090909\n"
     ]
    },
    {
     "name": "stderr",
     "output_type": "stream",
     "text": [
      "100%|██████████| 2000/2000 [00:01<00:00, 1119.57it/s]\n"
     ]
    },
    {
     "name": "stdout",
     "output_type": "stream",
     "text": [
      "[0, 0, 0.14285714285714285, 1] [5.0, 5.0, 4.0, 1.0] 1.3181818181818183\n"
     ]
    },
    {
     "name": "stderr",
     "output_type": "stream",
     "text": [
      "100%|██████████| 2000/2000 [00:01<00:00, 1034.91it/s]\n"
     ]
    },
    {
     "name": "stdout",
     "output_type": "stream",
     "text": [
      "[0, 0, 0.14285714285714285, 1] [5.0, 5.0, 4.0, 1.0] 1.3272727272727272\n"
     ]
    },
    {
     "name": "stderr",
     "output_type": "stream",
     "text": [
      "100%|██████████| 2000/2000 [00:01<00:00, 1102.63it/s]\n"
     ]
    },
    {
     "name": "stdout",
     "output_type": "stream",
     "text": [
      "[0, 0, 0.14285714285714285, 1] [5.0, 5.0, 4.0, 1.0] 1.3363636363636364\n"
     ]
    },
    {
     "name": "stderr",
     "output_type": "stream",
     "text": [
      "100%|██████████| 2000/2000 [00:01<00:00, 1124.49it/s]\n"
     ]
    },
    {
     "name": "stdout",
     "output_type": "stream",
     "text": [
      "[0, 0, 0.14285714285714285, 1] [5.0, 5.0, 4.0, 1.0] 1.3454545454545455\n"
     ]
    },
    {
     "name": "stderr",
     "output_type": "stream",
     "text": [
      "100%|██████████| 2000/2000 [00:01<00:00, 1163.65it/s]\n"
     ]
    },
    {
     "name": "stdout",
     "output_type": "stream",
     "text": [
      "[0, 0, 0.14285714285714285, 1] [5.0, 5.0, 4.0, 1.0] 1.3545454545454545\n"
     ]
    },
    {
     "name": "stderr",
     "output_type": "stream",
     "text": [
      "100%|██████████| 2000/2000 [00:01<00:00, 1150.27it/s]\n"
     ]
    },
    {
     "name": "stdout",
     "output_type": "stream",
     "text": [
      "[0, 0, 0.14285714285714285, 1] [5.0, 5.0, 4.0, 1.0] 1.3636363636363638\n"
     ]
    },
    {
     "name": "stderr",
     "output_type": "stream",
     "text": [
      "100%|██████████| 2000/2000 [00:01<00:00, 1081.61it/s]\n"
     ]
    },
    {
     "name": "stdout",
     "output_type": "stream",
     "text": [
      "[0, 0, 0.14285714285714285, 1] [5.0, 5.0, 4.0, 1.0] 1.3727272727272728\n"
     ]
    },
    {
     "name": "stderr",
     "output_type": "stream",
     "text": [
      "100%|██████████| 2000/2000 [00:01<00:00, 1105.78it/s]\n"
     ]
    },
    {
     "name": "stdout",
     "output_type": "stream",
     "text": [
      "[0, 0, 0.14285714285714285, 1] [5.0, 5.0, 4.0, 1.0] 1.3818181818181818\n"
     ]
    },
    {
     "name": "stderr",
     "output_type": "stream",
     "text": [
      "100%|██████████| 2000/2000 [00:01<00:00, 1228.25it/s]\n"
     ]
    },
    {
     "name": "stdout",
     "output_type": "stream",
     "text": [
      "[0, 0, 0.14285714285714285, 1] [5.0, 5.0, 4.0, 1.0] 1.3909090909090909\n"
     ]
    },
    {
     "name": "stderr",
     "output_type": "stream",
     "text": [
      "100%|██████████| 2000/2000 [00:01<00:00, 1147.23it/s]\n"
     ]
    },
    {
     "name": "stdout",
     "output_type": "stream",
     "text": [
      "[0, 0, 0.14285714285714285, 1] [5.0, 5.0, 4.0, 1.0] 1.4\n"
     ]
    },
    {
     "name": "stderr",
     "output_type": "stream",
     "text": [
      "100%|██████████| 2000/2000 [00:01<00:00, 1123.50it/s]\n"
     ]
    },
    {
     "name": "stdout",
     "output_type": "stream",
     "text": [
      "[0, 0, 0.14285714285714285, 1] [5.0, 5.0, 4.0, 1.0] 1.4090909090909092\n"
     ]
    },
    {
     "name": "stderr",
     "output_type": "stream",
     "text": [
      "100%|██████████| 2000/2000 [00:01<00:00, 1131.03it/s]\n"
     ]
    },
    {
     "name": "stdout",
     "output_type": "stream",
     "text": [
      "[0, 0, 0.0, 1] [5.0, 5.0, 5.0, 1.0] 1.4181818181818182\n"
     ]
    },
    {
     "name": "stderr",
     "output_type": "stream",
     "text": [
      "100%|██████████| 2000/2000 [00:01<00:00, 1095.22it/s]\n"
     ]
    },
    {
     "name": "stdout",
     "output_type": "stream",
     "text": [
      "[0, 0, 0.0, 1] [5.0, 5.0, 5.0, 1.0] 1.4272727272727272\n"
     ]
    },
    {
     "name": "stderr",
     "output_type": "stream",
     "text": [
      "100%|██████████| 2000/2000 [00:01<00:00, 1150.33it/s]\n"
     ]
    },
    {
     "name": "stdout",
     "output_type": "stream",
     "text": [
      "[0, 0, 0.0, 1] [5.0, 5.0, 5.0, 1.0] 1.4363636363636365\n"
     ]
    },
    {
     "name": "stderr",
     "output_type": "stream",
     "text": [
      "100%|██████████| 2000/2000 [00:01<00:00, 1178.74it/s]\n"
     ]
    },
    {
     "name": "stdout",
     "output_type": "stream",
     "text": [
      "[0, 0, 0.0, 1] [5.0, 5.0, 5.0, 1.0] 1.4454545454545453\n"
     ]
    },
    {
     "name": "stderr",
     "output_type": "stream",
     "text": [
      "100%|██████████| 2000/2000 [00:01<00:00, 1187.19it/s]\n"
     ]
    },
    {
     "name": "stdout",
     "output_type": "stream",
     "text": [
      "[0, 0, 0.0, 1] [5.0, 5.0, 5.0, 1.0] 1.4545454545454546\n"
     ]
    },
    {
     "name": "stderr",
     "output_type": "stream",
     "text": [
      "100%|██████████| 2000/2000 [00:01<00:00, 1196.40it/s]\n"
     ]
    },
    {
     "name": "stdout",
     "output_type": "stream",
     "text": [
      "[0, 0, 0.0, 1] [5.0, 5.0, 5.0, 1.0] 1.4636363636363636\n"
     ]
    },
    {
     "name": "stderr",
     "output_type": "stream",
     "text": [
      "100%|██████████| 2000/2000 [00:01<00:00, 1237.05it/s]\n"
     ]
    },
    {
     "name": "stdout",
     "output_type": "stream",
     "text": [
      "[0, 0, 0.0, 1] [5.0, 5.0, 5.0, 1.0] 1.4727272727272727\n"
     ]
    },
    {
     "name": "stderr",
     "output_type": "stream",
     "text": [
      "100%|██████████| 2000/2000 [00:01<00:00, 1135.05it/s]\n"
     ]
    },
    {
     "name": "stdout",
     "output_type": "stream",
     "text": [
      "[0, 0, 0.0, 1] [5.0, 5.0, 5.0, 1.0] 1.481818181818182\n"
     ]
    },
    {
     "name": "stderr",
     "output_type": "stream",
     "text": [
      "100%|██████████| 2000/2000 [00:01<00:00, 1219.05it/s]\n"
     ]
    },
    {
     "name": "stdout",
     "output_type": "stream",
     "text": [
      "[0, 0, 0.0, 1] [5.0, 5.0, 5.0, 1.0] 1.490909090909091\n"
     ]
    },
    {
     "name": "stderr",
     "output_type": "stream",
     "text": [
      "100%|██████████| 2000/2000 [00:01<00:00, 1227.21it/s]\n"
     ]
    },
    {
     "name": "stdout",
     "output_type": "stream",
     "text": [
      "[0, 0, 0.0, 1] [5.0, 5.0, 5.0, 1.0] 1.5\n"
     ]
    },
    {
     "name": "stderr",
     "output_type": "stream",
     "text": [
      "100%|██████████| 2000/2000 [00:01<00:00, 1256.52it/s]\n"
     ]
    },
    {
     "name": "stdout",
     "output_type": "stream",
     "text": [
      "[0, 0, 0.0, 1] [5.0, 5.0, 5.0, 1.0] 1.5090909090909093\n"
     ]
    },
    {
     "name": "stderr",
     "output_type": "stream",
     "text": [
      "100%|██████████| 2000/2000 [00:01<00:00, 1220.91it/s]\n"
     ]
    },
    {
     "name": "stdout",
     "output_type": "stream",
     "text": [
      "[0, 0, 0.0, 1] [5.0, 5.0, 5.0, 1.0] 1.518181818181818\n"
     ]
    },
    {
     "name": "stderr",
     "output_type": "stream",
     "text": [
      "100%|██████████| 2000/2000 [00:01<00:00, 1231.48it/s]\n"
     ]
    },
    {
     "name": "stdout",
     "output_type": "stream",
     "text": [
      "[0, 0, 0.0, 1] [5.0, 5.0, 5.0, 1.0] 1.5272727272727273\n"
     ]
    },
    {
     "name": "stderr",
     "output_type": "stream",
     "text": [
      "100%|██████████| 2000/2000 [00:01<00:00, 1226.90it/s]\n"
     ]
    },
    {
     "name": "stdout",
     "output_type": "stream",
     "text": [
      "[0, 0, 0.0, 1] [5.0, 5.0, 5.0, 1.0] 1.5363636363636364\n"
     ]
    },
    {
     "name": "stderr",
     "output_type": "stream",
     "text": [
      "100%|██████████| 2000/2000 [00:01<00:00, 1260.02it/s]\n"
     ]
    },
    {
     "name": "stdout",
     "output_type": "stream",
     "text": [
      "[0, 0, 0.0, 1] [5.0, 5.0, 5.0, 1.0] 1.5454545454545454\n"
     ]
    },
    {
     "name": "stderr",
     "output_type": "stream",
     "text": [
      "100%|██████████| 2000/2000 [00:01<00:00, 1237.54it/s]\n"
     ]
    },
    {
     "name": "stdout",
     "output_type": "stream",
     "text": [
      "[0, 0, 0, 1] [5.0, 5.0, 5.0, 1.0] 1.5545454545454547\n"
     ]
    },
    {
     "name": "stderr",
     "output_type": "stream",
     "text": [
      "100%|██████████| 2000/2000 [00:01<00:00, 1219.30it/s]\n"
     ]
    },
    {
     "name": "stdout",
     "output_type": "stream",
     "text": [
      "[0, 0, 0, 1] [5.0, 5.0, 5.0, 1.0] 1.5636363636363635\n"
     ]
    },
    {
     "name": "stderr",
     "output_type": "stream",
     "text": [
      "100%|██████████| 2000/2000 [00:01<00:00, 1221.70it/s]\n"
     ]
    },
    {
     "name": "stdout",
     "output_type": "stream",
     "text": [
      "[0, 0, 0, 1] [5.0, 5.0, 5.0, 1.0] 1.5727272727272728\n"
     ]
    },
    {
     "name": "stderr",
     "output_type": "stream",
     "text": [
      "100%|██████████| 2000/2000 [00:01<00:00, 1298.55it/s]\n"
     ]
    },
    {
     "name": "stdout",
     "output_type": "stream",
     "text": [
      "[0, 0, 0, 1] [5.0, 5.0, 5.0, 1.0] 1.5818181818181818\n"
     ]
    },
    {
     "name": "stderr",
     "output_type": "stream",
     "text": [
      "100%|██████████| 2000/2000 [00:01<00:00, 1184.33it/s]\n"
     ]
    },
    {
     "name": "stdout",
     "output_type": "stream",
     "text": [
      "[0, 0, 0, 1] [5.0, 5.0, 5.0, 1.0] 1.5909090909090908\n"
     ]
    },
    {
     "name": "stderr",
     "output_type": "stream",
     "text": [
      "100%|██████████| 2000/2000 [00:01<00:00, 1163.00it/s]\n"
     ]
    },
    {
     "name": "stdout",
     "output_type": "stream",
     "text": [
      "[0, 0, 0, 1] [5.0, 5.0, 5.0, 1.0] 1.6\n"
     ]
    },
    {
     "name": "stderr",
     "output_type": "stream",
     "text": [
      "100%|██████████| 2000/2000 [00:01<00:00, 1305.86it/s]\n"
     ]
    },
    {
     "name": "stdout",
     "output_type": "stream",
     "text": [
      "[0, 0, 0, 1] [5.0, 5.0, 5.0, 1.0] 1.6090909090909091\n"
     ]
    },
    {
     "name": "stderr",
     "output_type": "stream",
     "text": [
      "100%|██████████| 2000/2000 [00:01<00:00, 1291.61it/s]\n"
     ]
    },
    {
     "name": "stdout",
     "output_type": "stream",
     "text": [
      "[0, 0, 0, 1] [5.0, 5.0, 5.0, 1.0] 1.6181818181818182\n"
     ]
    },
    {
     "name": "stderr",
     "output_type": "stream",
     "text": [
      "100%|██████████| 2000/2000 [00:01<00:00, 1221.83it/s]\n"
     ]
    },
    {
     "name": "stdout",
     "output_type": "stream",
     "text": [
      "[0, 0, 0, 1] [5.0, 5.0, 5.0, 1.0] 1.6272727272727274\n"
     ]
    },
    {
     "name": "stderr",
     "output_type": "stream",
     "text": [
      "100%|██████████| 2000/2000 [00:01<00:00, 1207.25it/s]\n"
     ]
    },
    {
     "name": "stdout",
     "output_type": "stream",
     "text": [
      "[0, 0, 0, 1] [5.0, 5.0, 5.0, 1.0] 1.6363636363636362\n"
     ]
    },
    {
     "name": "stderr",
     "output_type": "stream",
     "text": [
      "100%|██████████| 2000/2000 [00:01<00:00, 1222.08it/s]\n"
     ]
    },
    {
     "name": "stdout",
     "output_type": "stream",
     "text": [
      "[0, 0, 0, 1] [5.0, 5.0, 5.0, 1.0] 1.6454545454545455\n"
     ]
    },
    {
     "name": "stderr",
     "output_type": "stream",
     "text": [
      "100%|██████████| 2000/2000 [00:01<00:00, 1197.20it/s]\n"
     ]
    },
    {
     "name": "stdout",
     "output_type": "stream",
     "text": [
      "[0, 0, 0, 1] [5.0, 5.0, 5.0, 1.0] 1.6545454545454545\n"
     ]
    },
    {
     "name": "stderr",
     "output_type": "stream",
     "text": [
      "100%|██████████| 2000/2000 [00:01<00:00, 1217.50it/s]\n"
     ]
    },
    {
     "name": "stdout",
     "output_type": "stream",
     "text": [
      "[0, 0, 0, 1] [5.0, 5.0, 5.0, 1.0] 1.6636363636363636\n"
     ]
    },
    {
     "name": "stderr",
     "output_type": "stream",
     "text": [
      "100%|██████████| 2000/2000 [00:01<00:00, 1215.05it/s]\n"
     ]
    },
    {
     "name": "stdout",
     "output_type": "stream",
     "text": [
      "[0, 0, 0, 1] [5.0, 5.0, 5.0, 1.0] 1.6727272727272728\n"
     ]
    },
    {
     "name": "stderr",
     "output_type": "stream",
     "text": [
      "100%|██████████| 2000/2000 [00:01<00:00, 1271.41it/s]\n"
     ]
    },
    {
     "name": "stdout",
     "output_type": "stream",
     "text": [
      "[0, 0, 0, 1] [5.0, 5.0, 5.0, 1.0] 1.6818181818181817\n"
     ]
    },
    {
     "name": "stderr",
     "output_type": "stream",
     "text": [
      "100%|██████████| 2000/2000 [00:01<00:00, 1230.90it/s]\n"
     ]
    },
    {
     "name": "stdout",
     "output_type": "stream",
     "text": [
      "[0, 0, 0, 1] [5.0, 5.0, 5.0, 1.0] 1.690909090909091\n"
     ]
    },
    {
     "name": "stderr",
     "output_type": "stream",
     "text": [
      "100%|██████████| 2000/2000 [00:01<00:00, 1254.98it/s]\n"
     ]
    },
    {
     "name": "stdout",
     "output_type": "stream",
     "text": [
      "[0, 0, 0, 1] [5.0, 5.0, 5.0, 1.0] 1.7\n"
     ]
    },
    {
     "name": "stderr",
     "output_type": "stream",
     "text": [
      "100%|██████████| 2000/2000 [00:01<00:00, 1258.27it/s]\n"
     ]
    },
    {
     "name": "stdout",
     "output_type": "stream",
     "text": [
      "73.1275\n"
     ]
    },
    {
     "data": {
      "image/png": "[encoded data removed]",
      "text/plain": [
       "<Figure size 640x480 with 1 Axes>"
      ]
     },
     "metadata": {},
     "output_type": "display_data"
    },
    {
     "data": {
      "image/png": "[encoded data removed]",
      "text/plain": [
       "<Figure size 640x480 with 1 Axes>"
      ]
     },
     "metadata": {},
     "output_type": "display_data"
    }
   ],
   "source": [
    "h_mean_alt = []\n",
    "h_std_alt = []\n",
    "space = np.linspace(0.8,1.7,100)\n",
    "for alpha in space:\n",
    "    policy, policy_bin = policy_maker_it_alt(int_env_alt, protocols[0], alpha)\n",
    "    print(policy,policy_bin,alpha)\n",
    "    depth_heuristic = batch_heuristic(2000,int_env_alt,policy)\n",
    "    h_mean_alt.append(np.mean(depth_heuristic))\n",
    "    h_std_alt.append(np.std(depth_heuristic))\n",
    "\n",
    "print(np.amin(h_mean_alt))\n",
    "plt.plot(space, h_mean_alt)\n",
    "plt.show()\n",
    "plt.plot(space, h_std_alt)\n",
    "plt.show()"
   ]
  },
  {
   "cell_type": "markdown",
   "metadata": {},
   "source": [
    "### Graphics"
   ]
  },
  {
   "cell_type": "code",
   "execution_count": 48,
   "metadata": {},
   "outputs": [
    {
     "data": {
      "image/png": "[encoded data removed]",
      "text/plain": [
       "<Figure size 640x480 with 2 Axes>"
      ]
     },
     "metadata": {},
     "output_type": "display_data"
    }
   ],
   "source": [
    "\n",
    "fig, (ax1, ax2) = plt.subplots(2, 1, sharex=True,height_ratios=[0.25,1])\n",
    "# fig.subplots_adjust(hspace=0.05)  # adjust space between axes\n",
    "fig.subplots_adjust(hspace=0.05)  # adjust space between axes\n",
    "fig.suptitle(r'$s=4$, $F_{th}=0.5$, $\\Gamma=0.17$, $\\lambda=1$, $p\\in(0.2,0.4)$, confidence=95%', fontsize=12)\n",
    "# plot the same data on both axes\n",
    "errorh = 2*np.array(h_std)/np.sqrt(2000)\n",
    "ax2.errorbar(space, h_mean, yerr=errorh, label='heuristic')\n",
    "ax2.plot(space, np.full(len(space),fill_value=m_depth_fixed), label='fixed')\n",
    "ax1.plot(space, np.full(len(space),fill_value=m_depth_random),label='random',c='green')\n",
    "\n",
    "\n",
    "\n",
    "\n",
    "# zoom-in / limit the view to different portions of the data\n",
    "ax2.set_ylim(60,180)  \n",
    "ax1.set_ylim(450,480)\n",
    "ax1.spines.bottom.set_visible(False)\n",
    "ax2.spines.top.set_visible(False)\n",
    "ax1.xaxis.tick_top()\n",
    "ax1.tick_params(labeltop=False)  # don't put tick labels at the top\n",
    "ax2.xaxis.tick_bottom()\n",
    "\n",
    "# Now, let's turn towards the cut-out slanted lines.\n",
    "# We create line objects in axes coordinates, in which (0,0), (0,1),\n",
    "# (1,0), and (1,1) are the four corners of the axes.\n",
    "# The slanted lines themselves are markers at those locations, such that the\n",
    "# lines keep their angle and position, independent of the axes size or scale\n",
    "# Finally, we need to disable clipping.\n",
    "\n",
    "d = 0.5  # proportion of vertical to horizontal extent of the slanted line\n",
    "kwargs = dict(marker=[(-1, -d), (1, d)], markersize=12,\n",
    "              linestyle=\"none\", color='k', mec='k', mew=1, clip_on=False)\n",
    "ax1.plot([0, 1], [0, 0], transform=ax1.transAxes, **kwargs)\n",
    "ax2.plot([0, 1], [1, 1], transform=ax2.transAxes, **kwargs)\n",
    "ax1.legend()\n",
    "ax2.legend()\n",
    "plt.xlabel(r'proportion factor $\\alpha$')\n",
    "plt.ylabel('expected time')\n",
    "txt=r'fixed error=7.87;random error=19.87;shots=2000'\n",
    "plt.figtext(0.5, -0.03, txt, wrap=True, horizontalalignment='center', fontsize=10)\n",
    "plt.show()\n",
    "\n",
    "# plt.plot(space, h_mean, label='linear')\n",
    "# # plt.plot(space, h_mean_int,label='interpolated without knowledge')\n",
    "# # plt.plot(space, h_mean_alt,label='interpolated with knowledge')\n",
    "# plt.plot(space, np.full(len(space),fill_value=m_depth_random),label='random')\n",
    "# plt.plot(space, np.full(len(space),fill_value=m_depth_fixed),label='fixed')\n",
    "# plt.legend(bbox_to_anchor=(0.75, 1.15), ncol=2)\n",
    "# plt.xlabel('alpha')\n",
    "# plt.ylabel('expected time')\n",
    "# plt.show()\n",
    "# plt.plot(space, h_std,label='heuristic')\n",
    "# plt.plot(space, np.full(len(space),fill_value=std_depth_random),label='random')\n",
    "# plt.plot(space, np.full(len(space),fill_value=std_depth_fixed),label='fixed')\n",
    "# plt.legend(bbox_to_anchor=(0.75, 1.15), ncol=2)\n",
    "# plt.xlabel('alpha')\n",
    "# plt.ylabel('standard deviation')\n",
    "# plt.show()"
   ]
  },
  {
   "cell_type": "code",
   "execution_count": 35,
   "metadata": {},
   "outputs": [
    {
     "name": "stdout",
     "output_type": "stream",
     "text": [
      "the upper bin size is:\n",
      "47.0\n",
      "the lower bin size\n",
      "16.0\n",
      "the upper bin size is:\n",
      "47.0\n",
      "the lower bin size\n",
      "16.0\n",
      "the upper bin size is:\n",
      "47.0\n",
      "the lower bin size\n",
      "16.0\n",
      "the upper bin size is:\n",
      "47.0\n",
      "the lower bin size\n",
      "16.0\n",
      "the upper bin size is:\n",
      "47.0\n",
      "the lower bin size\n",
      "16.0\n",
      "the upper bin size is:\n",
      "47.0\n",
      "the lower bin size\n",
      "16.0\n",
      "the upper bin size is:\n",
      "47.0\n",
      "the lower bin size\n",
      "16.0\n",
      "the upper bin size is:\n",
      "47.0\n",
      "the lower bin size\n",
      "16.0\n",
      "the upper bin size is:\n",
      "47.0\n",
      "the lower bin size\n",
      "16.0\n",
      "the upper bin size is:\n",
      "47.0\n",
      "the lower bin size\n",
      "16.0\n",
      "the upper bin size is:\n",
      "47.0\n",
      "the lower bin size\n",
      "16.0\n",
      "the upper bin size is:\n",
      "47.0\n",
      "the lower bin size\n",
      "16.0\n",
      "the upper bin size is:\n",
      "47.0\n",
      "the lower bin size\n",
      "16.0\n",
      "the upper bin size is:\n",
      "47.0\n",
      "the lower bin size\n",
      "16.0\n",
      "the upper bin size is:\n",
      "47.0\n",
      "the lower bin size\n",
      "16.0\n",
      "the upper bin size is:\n",
      "47.0\n",
      "the lower bin size\n",
      "16.0\n",
      "the upper bin size is:\n",
      "47.0\n",
      "the lower bin size\n",
      "16.0\n",
      "the upper bin size is:\n",
      "47.0\n",
      "the lower bin size\n",
      "16.0\n",
      "the upper bin size is:\n",
      "47.0\n",
      "the lower bin size\n",
      "16.0\n"
     ]
    },
    {
     "name": "stderr",
     "output_type": "stream",
     "text": [
      "C:\\Users\\天天\\AppData\\Local\\Temp\\ipykernel_19428\\2687924717.py:33: UserWarning: You have mixed positional and keyword arguments, some input may be discarded.\n",
      "  fig.legend([l2, l1], labels=[\"timesteps\", r'$n(F_{\\pi(1)})$'], loc = (0.1, 0.8), ncol=5)\n"
     ]
    },
    {
     "data": {
      "image/png": "[encoded data removed]",
      "text/plain": [
       "<Figure size 640x480 with 2 Axes>"
      ]
     },
     "metadata": {},
     "output_type": "display_data"
    }
   ],
   "source": [
    "#top bin for different num_qubits\n",
    "\n",
    "space = range(1,20)\n",
    "alpha=1.15\n",
    "top_bin_num = []\n",
    "for num in space:\n",
    "    cnt_env = cenv.AcntEnv(protocols, num,threshold, decay_rate)\n",
    "    policy, policy_bin = policy_maker_ct(cnt_env, alpha)\n",
    "    top_bin_num.append(policy_bin[0])\n",
    "\n",
    "#plot\n",
    "\n",
    "\n",
    "fig, ax1 = plt.subplots()\n",
    "txt=r'$F_{th}=0.5$, $\\Gamma=0.02$, $\\lambda=1$, $p\\in(0.1,0.4)$, confidence=99.7%'\n",
    "plt.suptitle(txt,fontsize=12)\n",
    "color = 'tab:red'\n",
    "ax1.set_xlabel('number of links for the generation / number of links to be generated')\n",
    "ax1.set_ylabel('Fidelity bin for the first link', color=color)\n",
    "l1 = ax1.plot(space, top_bin_num, color=color,label=r'$n(F_{\\pi(1)})$', marker='o')\n",
    "ax1.tick_params(axis='y', labelcolor=color)\n",
    "\n",
    "ax2 = ax1.twinx()  # instantiate a second Axes that shares the same x-axis\n",
    "\n",
    "color = 'tab:blue'\n",
    "ax2.set_ylabel('expected time', color=color)  # we already handled the x-label with ax1\n",
    "errornum = 3*np.array(num_std)/np.sqrt(2000)\n",
    "l2 = ax2.errorbar(space, num_mean, yerr=errornum,color=color, label='timesteps')\n",
    "ax2.tick_params(axis='y', labelcolor=color)\n",
    "\n",
    "fig.tight_layout()  # otherwise the right y-label is slightly clipped\n",
    "\n",
    "fig.legend([l2, l1], labels=[\"timesteps\", r'$n(F_{\\pi(1)})$'], loc = (0.1, 0.8), ncol=5)\n",
    "plt.figtext(0.5, -0.03, 'shots=2000', wrap=True, horizontalalignment='center', fontsize=10)\n",
    "plt.xticks(space)\n",
    "\n",
    "\n",
    "plt.show()\n",
    "\n"
   ]
  },
  {
   "cell_type": "code",
   "execution_count": 100,
   "metadata": {},
   "outputs": [
    {
     "data": {
      "image/png": "[encoded data removed]",
      "text/plain": [
       "<Figure size 640x480 with 1 Axes>"
      ]
     },
     "metadata": {},
     "output_type": "display_data"
    }
   ],
   "source": [
    "\n",
    "plt.suptitle(r'$s=4$, $F_{th}=0.5$, $\\Gamma=0.17$, $\\lambda=1$, confidence=95%', fontsize=12)\n",
    "# plot the same data on both axes\n",
    "errorlam = 2*np.array(lam_std)/np.sqrt(2000)\n",
    "space = np.linspace(0.2,1.25,40)\n",
    "plt.errorbar(space, lam_mean, yerr=errorlam, label='expected time')\n",
    "\n",
    "plt.xlabel(r'$\\lambda$')\n",
    "plt.ylabel('expected time')\n",
    "txt=r'fixed error=7.87;random error=19.87;shots=2000'\n",
    "plt.figtext(0.5, -0.03, txt, wrap=True, horizontalalignment='center', fontsize=10)\n",
    "plt.show()\n",
    "\n"
   ]
  }
 ],
 "metadata": {
  "kernelspec": {
   "display_name": "Qiskit",
   "language": "python",
   "name": "qiskit"
  },
  "language_info": {
   "codemirror_mode": {
    "name": "ipython",
    "version": 3
   },
   "file_extension": ".py",
   "mimetype": "text/x-python",
   "name": "python",
   "nbconvert_exporter": "python",
   "pygments_lexer": "ipython3",
   "version": "3.9.18"
  }
 },
 "nbformat": 4,
 "nbformat_minor": 2
}
